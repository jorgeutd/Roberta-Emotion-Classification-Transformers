{
 "cells": [
  {
   "cell_type": "code",
   "execution_count": 6,
   "id": "b4169f7e",
   "metadata": {},
   "outputs": [],
   "source": [
    "%%capture\n",
    "!pip install -U sagemaker"
   ]
  },
  {
   "cell_type": "code",
   "execution_count": 7,
   "id": "7684b6b7",
   "metadata": {},
   "outputs": [],
   "source": [
    "%%capture\n",
    "!pip install \"sagemaker>=2.69.0\" \"transformers==4.12.3\" --upgrade\n",
    "!pip install  \"datasets==1.13\" --upgrade"
   ]
  },
  {
   "cell_type": "code",
   "execution_count": 4,
   "id": "4fd72766",
   "metadata": {},
   "outputs": [],
   "source": [
    "%%capture\n",
    "!pip install s3fs==0.4.2 -U -q"
   ]
  },
  {
   "cell_type": "markdown",
   "id": "b3fd21f6",
   "metadata": {},
   "source": [
    "### Load dataset and have a peak:"
   ]
  },
  {
   "cell_type": "markdown",
   "id": "a4878100",
   "metadata": {},
   "source": [
    "This cell is required in SageMaker Studio, otherwise the download of the dataset will throw an error.\n",
    "After running this cell, the kernel needs to be restarted. After restarting tthe kernel, continue with the cell below (loading the dataset)"
   ]
  },
  {
   "cell_type": "code",
   "execution_count": 1,
   "id": "d2015381",
   "metadata": {},
   "outputs": [],
   "source": [
    "# %%capture\n",
    "# import IPython\n",
    "# !conda install -c conda-forge ipywidgets -y\n",
    "# IPython.Application.instance().kernel.do_shutdown(True)"
   ]
  },
  {
   "cell_type": "code",
   "execution_count": 1,
   "id": "2de0357e",
   "metadata": {},
   "outputs": [],
   "source": [
    "from datasets import load_dataset\n",
    "import pandas as pd"
   ]
  },
  {
   "cell_type": "code",
   "execution_count": 2,
   "id": "4120b12f",
   "metadata": {},
   "outputs": [
    {
     "name": "stderr",
     "output_type": "stream",
     "text": [
      "Using custom data configuration default\n",
      "Reusing dataset emotion (/home/ec2-user/.cache/huggingface/datasets/emotion/default/0.0.0/6e4212efe64fd33728549b8f0435c73081391d543b596a05936857df98acb681)\n"
     ]
    },
    {
     "name": "stdout",
     "output_type": "stream",
     "text": [
      "1.1265473365783691\n"
     ]
    }
   ],
   "source": [
    "import time\n",
    "\n",
    "start = time.time()\n",
    "\n",
    "dataset = load_dataset(\"emotion\")\n",
    "\n",
    "end = time.time()\n",
    "\n",
    "print(end - start)"
   ]
  },
  {
   "cell_type": "code",
   "execution_count": 8,
   "id": "af488e3b",
   "metadata": {},
   "outputs": [
    {
     "data": {
      "text/plain": [
       "DatasetDict({\n",
       "    train: Dataset({\n",
       "        features: ['text', 'label'],\n",
       "        num_rows: 16000\n",
       "    })\n",
       "    validation: Dataset({\n",
       "        features: ['text', 'label'],\n",
       "        num_rows: 2000\n",
       "    })\n",
       "    test: Dataset({\n",
       "        features: ['text', 'label'],\n",
       "        num_rows: 2000\n",
       "    })\n",
       "})"
      ]
     },
     "execution_count": 8,
     "metadata": {},
     "output_type": "execute_result"
    }
   ],
   "source": [
    "dataset "
   ]
  },
  {
   "cell_type": "code",
   "execution_count": 30,
   "id": "57733441",
   "metadata": {},
   "outputs": [
    {
     "name": "stderr",
     "output_type": "stream",
     "text": [
      "Using custom data configuration default\n",
      "Reusing dataset emotion (/home/ec2-user/.cache/huggingface/datasets/emotion/default/0.0.0/6e4212efe64fd33728549b8f0435c73081391d543b596a05936857df98acb681)\n"
     ]
    }
   ],
   "source": [
    "# load dataset\n",
    "train_dataset, validation_dataset, test_dataset = load_dataset('emotion', split=['train','validation','test'])"
   ]
  },
  {
   "cell_type": "code",
   "execution_count": 31,
   "id": "6912c0b7",
   "metadata": {},
   "outputs": [
    {
     "data": {
      "text/plain": [
       "(16000, 2)"
      ]
     },
     "execution_count": 31,
     "metadata": {},
     "output_type": "execute_result"
    }
   ],
   "source": [
    "train_dataset.shape"
   ]
  },
  {
   "cell_type": "code",
   "execution_count": 32,
   "id": "5dfd231d",
   "metadata": {},
   "outputs": [
    {
     "data": {
      "text/plain": [
       "(2000, 2)"
      ]
     },
     "execution_count": 32,
     "metadata": {},
     "output_type": "execute_result"
    }
   ],
   "source": [
    "validation_dataset.shape"
   ]
  },
  {
   "cell_type": "code",
   "execution_count": 33,
   "id": "bec5e99a",
   "metadata": {},
   "outputs": [
    {
     "data": {
      "text/plain": [
       "(2000, 2)"
      ]
     },
     "execution_count": 33,
     "metadata": {},
     "output_type": "execute_result"
    }
   ],
   "source": [
    "test_dataset.shape"
   ]
  },
  {
   "cell_type": "code",
   "execution_count": 34,
   "id": "f5fbee91",
   "metadata": {},
   "outputs": [
    {
     "data": {
      "text/plain": [
       "Dataset({\n",
       "    features: ['text', 'label'],\n",
       "    num_rows: 2000\n",
       "})"
      ]
     },
     "execution_count": 34,
     "metadata": {},
     "output_type": "execute_result"
    }
   ],
   "source": [
    "test_dataset"
   ]
  },
  {
   "cell_type": "code",
   "execution_count": 5,
   "id": "9d0e0acc",
   "metadata": {},
   "outputs": [],
   "source": [
    "import random\n",
    "import pandas as pd\n",
    "from IPython.display import display, HTML\n",
    "\n",
    "def display_random_examples(dataset, num_examples=5):\n",
    "    assert num_examples < len(dataset)\n",
    "    \n",
    "    random_picks = []\n",
    "    for i in range(num_examples):\n",
    "        random_pick = random.randint(0,len(dataset)-1)\n",
    "        random_picks.append(random_pick)\n",
    "    \n",
    "    df = pd.DataFrame(dataset[random_picks])\n",
    "    display(HTML(df.to_html()))\n",
    "        "
   ]
  },
  {
   "cell_type": "code",
   "execution_count": 9,
   "id": "80c856e8",
   "metadata": {},
   "outputs": [
    {
     "data": {
      "text/html": [
       "<table border=\"1\" class=\"dataframe\">\n",
       "  <thead>\n",
       "    <tr style=\"text-align: right;\">\n",
       "      <th></th>\n",
       "      <th>label</th>\n",
       "      <th>text</th>\n",
       "    </tr>\n",
       "  </thead>\n",
       "  <tbody>\n",
       "    <tr>\n",
       "      <th>0</th>\n",
       "      <td>3</td>\n",
       "      <td>i feel like there are people out there on the internet that have issues with my online friends and then expect me to be hateful or mean to them as well</td>\n",
       "    </tr>\n",
       "    <tr>\n",
       "      <th>1</th>\n",
       "      <td>0</td>\n",
       "      <td>i were both feeling homesick so we decided to venture to a relatively new part of town</td>\n",
       "    </tr>\n",
       "    <tr>\n",
       "      <th>2</th>\n",
       "      <td>0</td>\n",
       "      <td>i think this would be fantastic as i feel the over nutrition of children is suffering and that over of all children are obese</td>\n",
       "    </tr>\n",
       "    <tr>\n",
       "      <th>3</th>\n",
       "      <td>1</td>\n",
       "      <td>i feel pleasantly mellow regardless</td>\n",
       "    </tr>\n",
       "    <tr>\n",
       "      <th>4</th>\n",
       "      <td>3</td>\n",
       "      <td>i feel i am with ampatuan and joining the forces of hell bitchy human who only wants is to spread their worst odor in this world</td>\n",
       "    </tr>\n",
       "  </tbody>\n",
       "</table>"
      ],
      "text/plain": [
       "<IPython.core.display.HTML object>"
      ]
     },
     "metadata": {},
     "output_type": "display_data"
    }
   ],
   "source": [
    "display_random_examples(dataset['train'], 5)"
   ]
  },
  {
   "cell_type": "code",
   "execution_count": 11,
   "id": "fcf6e8b6",
   "metadata": {},
   "outputs": [],
   "source": [
    "df = dataset['train'].to_pandas()"
   ]
  },
  {
   "cell_type": "code",
   "execution_count": 24,
   "id": "1974470a",
   "metadata": {},
   "outputs": [
    {
     "data": {
      "text/html": [
       "<div>\n",
       "<style scoped>\n",
       "    .dataframe tbody tr th:only-of-type {\n",
       "        vertical-align: middle;\n",
       "    }\n",
       "\n",
       "    .dataframe tbody tr th {\n",
       "        vertical-align: top;\n",
       "    }\n",
       "\n",
       "    .dataframe thead th {\n",
       "        text-align: right;\n",
       "    }\n",
       "</style>\n",
       "<table border=\"1\" class=\"dataframe\">\n",
       "  <thead>\n",
       "    <tr style=\"text-align: right;\">\n",
       "      <th></th>\n",
       "      <th>label</th>\n",
       "      <th>text</th>\n",
       "    </tr>\n",
       "  </thead>\n",
       "  <tbody>\n",
       "    <tr>\n",
       "      <th>0</th>\n",
       "      <td>0</td>\n",
       "      <td>i didnt feel humiliated</td>\n",
       "    </tr>\n",
       "    <tr>\n",
       "      <th>1</th>\n",
       "      <td>0</td>\n",
       "      <td>i can go from feeling so hopeless to so damned hopeful just from being around someone who cares and is awake</td>\n",
       "    </tr>\n",
       "    <tr>\n",
       "      <th>2</th>\n",
       "      <td>3</td>\n",
       "      <td>im grabbing a minute to post i feel greedy wrong</td>\n",
       "    </tr>\n",
       "    <tr>\n",
       "      <th>3</th>\n",
       "      <td>2</td>\n",
       "      <td>i am ever feeling nostalgic about the fireplace i will know that it is still on the property</td>\n",
       "    </tr>\n",
       "    <tr>\n",
       "      <th>4</th>\n",
       "      <td>3</td>\n",
       "      <td>i am feeling grouchy</td>\n",
       "    </tr>\n",
       "    <tr>\n",
       "      <th>5</th>\n",
       "      <td>0</td>\n",
       "      <td>ive been feeling a little burdened lately wasnt sure why that was</td>\n",
       "    </tr>\n",
       "    <tr>\n",
       "      <th>6</th>\n",
       "      <td>5</td>\n",
       "      <td>ive been taking or milligrams or times recommended amount and ive fallen asleep a lot faster but i also feel like so funny</td>\n",
       "    </tr>\n",
       "    <tr>\n",
       "      <th>7</th>\n",
       "      <td>4</td>\n",
       "      <td>i feel as confused about life as a teenager or as jaded as a year old man</td>\n",
       "    </tr>\n",
       "    <tr>\n",
       "      <th>8</th>\n",
       "      <td>1</td>\n",
       "      <td>i have been with petronas for years i feel that petronas has performed well and made a huge profit</td>\n",
       "    </tr>\n",
       "    <tr>\n",
       "      <th>9</th>\n",
       "      <td>2</td>\n",
       "      <td>i feel romantic too</td>\n",
       "    </tr>\n",
       "  </tbody>\n",
       "</table>\n",
       "</div>"
      ],
      "text/plain": [
       "   label  \\\n",
       "0      0   \n",
       "1      0   \n",
       "2      3   \n",
       "3      2   \n",
       "4      3   \n",
       "5      0   \n",
       "6      5   \n",
       "7      4   \n",
       "8      1   \n",
       "9      2   \n",
       "\n",
       "                                                                                                                         text  \n",
       "0                                                                                                     i didnt feel humiliated  \n",
       "1                i can go from feeling so hopeless to so damned hopeful just from being around someone who cares and is awake  \n",
       "2                                                                            im grabbing a minute to post i feel greedy wrong  \n",
       "3                                i am ever feeling nostalgic about the fireplace i will know that it is still on the property  \n",
       "4                                                                                                        i am feeling grouchy  \n",
       "5                                                           ive been feeling a little burdened lately wasnt sure why that was  \n",
       "6  ive been taking or milligrams or times recommended amount and ive fallen asleep a lot faster but i also feel like so funny  \n",
       "7                                                   i feel as confused about life as a teenager or as jaded as a year old man  \n",
       "8                          i have been with petronas for years i feel that petronas has performed well and made a huge profit  \n",
       "9                                                                                                         i feel romantic too  "
      ]
     },
     "metadata": {},
     "output_type": "display_data"
    }
   ],
   "source": [
    "from pandas import option_context\n",
    "\n",
    "with option_context('display.max_rows', None,'display.max_colwidth',150,'display.max_columns',50):\n",
    "              display(df.head(10))"
   ]
  },
  {
   "cell_type": "code",
   "execution_count": 38,
   "id": "2309ade1",
   "metadata": {},
   "outputs": [
    {
     "data": {
      "text/html": [
       "<div>\n",
       "<style scoped>\n",
       "    .dataframe tbody tr th:only-of-type {\n",
       "        vertical-align: middle;\n",
       "    }\n",
       "\n",
       "    .dataframe tbody tr th {\n",
       "        vertical-align: top;\n",
       "    }\n",
       "\n",
       "    .dataframe thead th {\n",
       "        text-align: right;\n",
       "    }\n",
       "</style>\n",
       "<table border=\"1\" class=\"dataframe\">\n",
       "  <thead>\n",
       "    <tr style=\"text-align: right;\">\n",
       "      <th></th>\n",
       "      <th>label</th>\n",
       "      <th>text</th>\n",
       "    </tr>\n",
       "  </thead>\n",
       "  <tbody>\n",
       "    <tr>\n",
       "      <th>15990</th>\n",
       "      <td>1</td>\n",
       "      <td>i feel really glad that i dont look like the celebrities out there that are so beautiful she told dr</td>\n",
       "    </tr>\n",
       "    <tr>\n",
       "      <th>15991</th>\n",
       "      <td>0</td>\n",
       "      <td>i have wanted to perhaps convey my feelings of a matter instead of my thoughts and have rejected it because i have thought feelings in the matter ...</td>\n",
       "    </tr>\n",
       "    <tr>\n",
       "      <th>15992</th>\n",
       "      <td>3</td>\n",
       "      <td>i moved away he said something that made me feel violent but its something i still cant make out</td>\n",
       "    </tr>\n",
       "    <tr>\n",
       "      <th>15993</th>\n",
       "      <td>1</td>\n",
       "      <td>i most days feel like if braeden and calvin are happy then it has been a successful day</td>\n",
       "    </tr>\n",
       "    <tr>\n",
       "      <th>15994</th>\n",
       "      <td>2</td>\n",
       "      <td>i feel so sympathetic empathetic towards them</td>\n",
       "    </tr>\n",
       "    <tr>\n",
       "      <th>15995</th>\n",
       "      <td>0</td>\n",
       "      <td>i just had a very brief time in the beanbag and i said to anna that i feel like i have been beaten up</td>\n",
       "    </tr>\n",
       "    <tr>\n",
       "      <th>15996</th>\n",
       "      <td>0</td>\n",
       "      <td>i am now turning and i feel pathetic that i am still waiting tables and subbing with a teaching degree</td>\n",
       "    </tr>\n",
       "    <tr>\n",
       "      <th>15997</th>\n",
       "      <td>1</td>\n",
       "      <td>i feel strong and good overall</td>\n",
       "    </tr>\n",
       "    <tr>\n",
       "      <th>15998</th>\n",
       "      <td>3</td>\n",
       "      <td>i feel like this was such a rude comment and im glad that t</td>\n",
       "    </tr>\n",
       "    <tr>\n",
       "      <th>15999</th>\n",
       "      <td>0</td>\n",
       "      <td>i know a lot but i feel so stupid because i can not portray it</td>\n",
       "    </tr>\n",
       "  </tbody>\n",
       "</table>\n",
       "</div>"
      ],
      "text/plain": [
       "       label  \\\n",
       "15990      1   \n",
       "15991      0   \n",
       "15992      3   \n",
       "15993      1   \n",
       "15994      2   \n",
       "15995      0   \n",
       "15996      0   \n",
       "15997      1   \n",
       "15998      3   \n",
       "15999      0   \n",
       "\n",
       "                                                                                                                                                        text  \n",
       "15990                                                   i feel really glad that i dont look like the celebrities out there that are so beautiful she told dr  \n",
       "15991  i have wanted to perhaps convey my feelings of a matter instead of my thoughts and have rejected it because i have thought feelings in the matter ...  \n",
       "15992                                                       i moved away he said something that made me feel violent but its something i still cant make out  \n",
       "15993                                                                i most days feel like if braeden and calvin are happy then it has been a successful day  \n",
       "15994                                                                                                          i feel so sympathetic empathetic towards them  \n",
       "15995                                                  i just had a very brief time in the beanbag and i said to anna that i feel like i have been beaten up  \n",
       "15996                                                 i am now turning and i feel pathetic that i am still waiting tables and subbing with a teaching degree  \n",
       "15997                                                                                                                         i feel strong and good overall  \n",
       "15998                                                                                            i feel like this was such a rude comment and im glad that t  \n",
       "15999                                                                                         i know a lot but i feel so stupid because i can not portray it  "
      ]
     },
     "metadata": {},
     "output_type": "display_data"
    }
   ],
   "source": [
    "from pandas import option_context\n",
    "\n",
    "with option_context('display.max_rows', None,'display.max_colwidth',150,'display.max_columns',50):\n",
    "              display(df.tail(10))"
   ]
  },
  {
   "cell_type": "code",
   "execution_count": 15,
   "id": "da531fb0",
   "metadata": {},
   "outputs": [
    {
     "data": {
      "text/plain": [
       "1    5362\n",
       "0    4666\n",
       "3    2159\n",
       "4    1937\n",
       "2    1304\n",
       "5     572\n",
       "Name: label, dtype: int64"
      ]
     },
     "execution_count": 15,
     "metadata": {},
     "output_type": "execute_result"
    }
   ],
   "source": [
    "df['label'].value_counts()"
   ]
  },
  {
   "cell_type": "code",
   "execution_count": 26,
   "id": "9ad1fbb2",
   "metadata": {},
   "outputs": [
    {
     "data": {
      "text/plain": [
       "(16000, 2)"
      ]
     },
     "execution_count": 26,
     "metadata": {},
     "output_type": "execute_result"
    }
   ],
   "source": [
    "df.shape"
   ]
  },
  {
   "cell_type": "code",
   "execution_count": 25,
   "id": "08163080",
   "metadata": {},
   "outputs": [],
   "source": [
    "import numpy as np\n",
    "    \n",
    "# split the dataset into train, val, and test\n",
    "train, val, test = np.split(df.sample(frac=1), [int(0.7*len(df)), int((0.7+0.15)*len(df))])"
   ]
  },
  {
   "cell_type": "code",
   "execution_count": 27,
   "id": "d2b93c16",
   "metadata": {},
   "outputs": [
    {
     "data": {
      "text/plain": [
       "(11200, 2)"
      ]
     },
     "execution_count": 27,
     "metadata": {},
     "output_type": "execute_result"
    }
   ],
   "source": [
    "train.shape"
   ]
  },
  {
   "cell_type": "code",
   "execution_count": 28,
   "id": "ca466adb",
   "metadata": {},
   "outputs": [
    {
     "data": {
      "text/plain": [
       "(2400, 2)"
      ]
     },
     "execution_count": 28,
     "metadata": {},
     "output_type": "execute_result"
    }
   ],
   "source": [
    "val.shape"
   ]
  },
  {
   "cell_type": "code",
   "execution_count": 29,
   "id": "b4a2cd1d",
   "metadata": {},
   "outputs": [
    {
     "data": {
      "text/plain": [
       "(2400, 2)"
      ]
     },
     "execution_count": 29,
     "metadata": {},
     "output_type": "execute_result"
    }
   ],
   "source": [
    "test.shape"
   ]
  },
  {
   "cell_type": "code",
   "execution_count": 13,
   "id": "d6e31ae2",
   "metadata": {},
   "outputs": [
    {
     "name": "stderr",
     "output_type": "stream",
     "text": [
      "Matplotlib is building the font cache; this may take a moment.\n"
     ]
    },
    {
     "data": {
      "image/png": "[encoded data removed]",
      "text/plain": [
       "<Figure size 792x576 with 1 Axes>"
      ]
     },
     "metadata": {},
     "output_type": "display_data"
    }
   ],
   "source": [
    "import matplotlib.pyplot as plt\n",
    "import warnings\n",
    "import seaborn as sns\n",
    "\n",
    "sns.set(style=\"whitegrid\")\n",
    "plt.figure(figsize=(11,8))\n",
    "\n",
    "color_labels = df['label'].unique()\n",
    "\n",
    "# List of color palette to use\n",
    "rgb_values = sns.color_palette(\"tab10\", 2)\n",
    "\n",
    "# Map label to color palette\n",
    "\n",
    "color_map = dict(zip(color_labels, rgb_values))\n",
    "\n",
    "\n",
    "ax = sns.countplot(x=\"label\", data=df)\n",
    "\n",
    "plt.xticks(size=11)\n",
    "plt.xlabel(' Class', size=  11)\n",
    "plt.yticks(size=11)\n",
    "plt.ylabel('Count', size=  11)\n",
    "\n",
    "def without_hue(plot, feature):\n",
    "    total = len(feature)\n",
    "    for p in plot.patches:\n",
    "        percentage = '{:.1f}%'.format(100 * p.get_height()/total)\n",
    "        x = p.get_x() + p.get_width() / 2 - 0.05\n",
    "        y = p.get_y() + p.get_height()\n",
    "        ax.annotate(percentage, (x, y), size = 11.5)\n",
    "    \n",
    "def change_width(ax, new_value) :\n",
    "    for patch in ax.patches :\n",
    "        current_width = patch.get_width()\n",
    "        diff = current_width - new_value\n",
    "\n",
    "        # we change the bar width\n",
    "        patch.set_width(new_value)\n",
    "\n",
    "        # we recenter the bar\n",
    "        patch.set_x(patch.get_x() + diff * .5)\n",
    "\n",
    "change_width(ax, .55)\n",
    "\n",
    "without_hue(ax, df.label)\n",
    "plt.title('emotion Proportion')\n",
    "plt.show()"
   ]
  },
  {
   "cell_type": "code",
   "execution_count": 4,
   "id": "b9c4aa02",
   "metadata": {},
   "outputs": [],
   "source": [
    "from datasets import list_datasets, load_dataset\n",
    "from pprint import pprint\n",
    "\n",
    "datasets_list = list_datasets() \n"
   ]
  },
  {
   "cell_type": "code",
   "execution_count": 5,
   "id": "b411306a",
   "metadata": {},
   "outputs": [
    {
     "name": "stdout",
     "output_type": "stream",
     "text": [
      "['0n1xus/codexglue', 'AConsApart/anime_subtitles_DialoGPT',\n",
      " 'AI-Sweden/SuperLim', 'ARKseal/YFCC14M_subset_webdataset', 'ARTeLab/fanpage',\n",
      " 'Abdo1Kamr/Arabic_Hadith', 'AdWeeb/DravidianMT', 'Adnan/Urdu_News_Headlines',\n",
      " 'Akshith/aa', 'Akshith/g_rock', 'Akshith/test',\n",
      " 'AlekseyDorkin/extended_tweet_emojis', 'Alvenir/nst-da-16khz',\n",
      " 'Annielytics/DoctorsNotes',\n",
      " 'AryanLala/autonlp-data-Scientific_Title_Generator', 'Avishekavi/Avi',\n",
      " 'BSC-TeMU/SQAC', 'BSC-TeMU/ancora-ca-ner', 'BSC-TeMU/sts-ca', 'BSC-TeMU/tecla',\n",
      " 'BSC-TeMU/viquiquad', 'BSC-TeMU/xquad-ca', 'Babelscape/rebel-dataset',\n",
      " 'Binbin/my_dataset', 'BlakesOrb6/Fred-Flintstone', 'Bosio/pacman',\n",
      " 'Bosio/pacman_descriptions', 'CAGER/rick', 'CShorten/KerasBERT',\n",
      " 'CShorten/ZillowPrize', 'ChadxxxxHall/Inter-vision',\n",
      " 'Champion/vpc2020_clear_anon_speech', 'Check/a_re_gi', 'Check/region_1',\n",
      " 'Check/region_2', 'Check/region_3', 'Check/region_4', 'Check/region_5',\n",
      " 'Check/region_6', 'Check/region_7', 'Check/region_8', 'Check/region_9',\n",
      " 'Check/regions', 'Check/vverify', 'ChristophSchuhmann/MS_COCO_2017_URL_TEXT',\n",
      " 'Chun/dataset', 'Chuu/Vhh', 'CodedotAI/code_clippy', 'Cropinky/flatearther',\n",
      " 'Cropinky/rap_lyrics_english', 'Cropinky/wow_fishing_bobber',\n",
      " 'Cyberfish/pos_tagger', 'Cyberfish/text_error_correction',\n",
      " 'DELith/github-issues', 'Daniele/dante-corpus', 'Darren/data',\n",
      " 'Datatang/accented_english', 'Datatang/accented_mandarin',\n",
      " 'Datatang/chinese_dialect', 'Datatang/mandarin_chinese',\n",
      " 'Datatang/mixed_speech_chinese_english', 'Datatang/multi_language',\n",
      " 'Datatang/multi_language_conversation', 'Davlan/conll2003_de_noMISC',\n",
      " 'Davlan/conll2003_noMISC', 'Davlan/masakhanerV1', 'Dmitriy612/1',\n",
      " 'DoctorSlimm/yipee', 'EMBO/biolang', 'EMBO/sd-nlp', 'ESZER/H',\n",
      " 'Emanuel/UD_Portuguese-Bosque', 'Emon/sobuj', 'Enes3774/data',\n",
      " 'Eymen3455/xsum_tr', 'FL33TW00D/test-dataset', 'FRTNX/cosuju',\n",
      " 'FRTNX/worldbank-projects', 'Felix-ML/quoteli3', 'Fhrozen/JTubeSpeech',\n",
      " 'Finnish-NLP/mc4_fi_cleaned', 'Firoj/CrisisBench', 'Francois/futures_es',\n",
      " 'Fraser/mnist-text-default', 'Fraser/mnist-text-no-spaces',\n",
      " 'Fraser/mnist-text-small', 'Fraser/news-category-dataset',\n",
      " 'Fraser/python-lines', 'Fraser/short-jokes', 'Fraser/wiki_sentences',\n",
      " 'GEM/ART', 'GEM/BiSECT', 'GEM/CrossWOZ', 'GEM/OrangeSum', 'GEM/RiSAWOZ',\n",
      " 'GEM/RotoWire_English-German', 'GEM/SIMPITIKI', 'GEM/SciDuet',\n",
      " 'GEM/Taskmaster', 'GEM/cochrane-simplification', 'GEM/conversational_weather',\n",
      " 'GEM/dstc10_track2_task2', 'GEM/indonlg', 'GEM/mlb_data_to_text',\n",
      " 'GEM/opusparcus', 'GEM/split_and_rephrase', 'GEM/sportsett_basketball',\n",
      " 'GEM/squad_v2', 'GEM/surface_realisation_st_2020', 'GEM/test-transform',\n",
      " 'GEM/test', 'GEM/turku_hockey_data2text', 'GEM/turku_paraphrase_corpus',\n",
      " 'GEM/viggo', 'GEM/wiki_cat_sum', 'GEM/xlsum', 'Gabriel/squad_v2_sv',\n",
      " 'GalacticAI/Noirset', 'Gauravadlakha1509/new_one',\n",
      " 'Graphcore/wikipedia-bert-128', 'Graphcore/wikipedia-bert-512',\n",
      " 'Gwangho/NCBI-Sars-Cov-2', 'HHousen/ParaSCI', 'HHousen/quora',\n",
      " 'Halilyesilceng/autonlp-data-nameEntityRecognition', 'HarleyQ/WitcherDialogue',\n",
      " 'Harveenchadha/bol-models', 'HarveyBWest/mybot', 'Hellisotherpeople/DebateSum',\n",
      " 'Husain/intent-classification-en-fr', 'IFSTalfredoswald/MBTI',\n",
      " 'Iftoo95/Arabic_Sentiment_and_Topics', 'IlyaGusev/gazeta',\n",
      " 'IlyaGusev/headline_cause', 'Intel/WEC-Eng', 'Ishwar/Senti',\n",
      " 'JIsanan/war-ceb-wikipedia', 'Jack0508/TED2020_kor', 'Jack0508/TED2020_vi',\n",
      " 'Jack0508/TED2020vi_kor', 'Jack0508/demo', 'Jack0508/eng_vi_demo',\n",
      " 'Jack0508/test', 'Jack0508/vi-ko-TED-txt', 'Jean-Baptiste/wikiner_fr',\n",
      " 'Jeska/autonlp-data-vaccinfaq', 'Jeska/vaccinchat', 'Jikiwa/demo1',\n",
      " 'Jikiwa/demo2', 'Jikiwa/demo3', 'Jikiwa/demo4', 'Jikiwa/glue-mnli-train',\n",
      " 'Jikiwa/push-to-hub', 'Jikiwa/pushe-to-hub', 'Jikiwa/pushed-to-hub',\n",
      " 'Jikiwa/pushedd-to-hub', 'Jikiwa/random_repo', 'Jikiwa/stargazers',\n",
      " 'Jikiwa/temp-repo-valid', 'Jikiwa/test-16336477963335',\n",
      " 'Jikiwa/test-16336478042515', 'Jikiwa/test-16336479967338',\n",
      " 'Jikiwa/test-16336480189315', 'Jikiwa/test-16336486877862',\n",
      " 'Jikiwa/test-16340052901609', 'Jikiwa/test-16340052972855',\n",
      " 'Jikiwa/test-16344347220590', 'Jikiwa/test-16344347234752',\n",
      " 'Jikiwa/test-16344349332219', 'Jikiwa/test-16344349440339',\n",
      " 'Jikiwa/test-16344351925697', 'Jikiwa/test-16344360501144',\n",
      " 'Jikiwa/test-16344361893586', 'Jikiwa/test-16344362261113',\n",
      " 'Jikiwa/test-16344362895458', 'Jikiwa/test-16344364230608',\n",
      " 'Jikiwa/test-16344364547167', 'Jikiwa/test-16344367190179',\n",
      " 'Jikiwa/test-16344368182003', 'KBLab/suc3', 'KETI-AIR/aihub', 'KETI-AIR/klue',\n",
      " 'KETI-AIR/kor_corpora', 'KETI-AIR/korquad', 'KETI-AIR/nikl',\n",
      " 'Karavet/ARPA-Armenian-Paraphrase-Corpus',\n",
      " 'Karavet/ILUR-news-text-classification-corpus',\n",
      " 'Karavet/pioNER-Armenian-Named-Entity', 'Khanoooo/autonlp-data-Corona',\n",
      " 'Khondoker/SentNoB', 'LIAMF-USP/arc-retrieval-c4', 'Lenn/github-issues',\n",
      " 'LeoCordoba/CC-NEWS-ES-titles', 'LeoCordoba/CC-NEWS-ES', 'MBAH/MOVIESON',\n",
      " 'MKK/Dhivehi-English', 'Mansooreh/sharif-emotional-speech-dataset',\n",
      " 'MarianaSahagun/test', 'MarkusDressel/cord', 'Marzipan/QA4PC',\n",
      " 'Mateo/test_dataset', 'Mateo/testdataset', 'McGill-NLP/mlquestions',\n",
      " 'Melinoe/TheLabTexts', 'MickyMike/large_c_corpus', 'Mrleo1nid/Test_ru_dataset',\n",
      " 'Mulin/my_second_dataset', 'Mulin/my_third_dataset', 'NTUYG/RAGTest',\n",
      " 'Narsil/asr_dummy', 'Narsil/conversational_dummy', 'Narsil/image_dummy',\n",
      " 'NbAiLab/NCC', 'NbAiLab/bokmaal_admin', 'NbAiLab/norec_agg', 'NbAiLab/norne',\n",
      " 'NbAiLab/norwegian_parliament', 'NbAiLab/test_corpus', 'NbAiLab/tull',\n",
      " 'NikolajW/NPS_nonNormalized-Cased', 'Ofrit/tmp', 'Pengfei/test',\n",
      " 'Pengfei/test1', 'PlanTL-GOB-ES/SQAC', 'Pongsaky/Wiki_SCG',\n",
      " 'Pratik/Gujarati_OpenSLR', 'Pyke/patent_abstract', 'QA/abk-eng',\n",
      " 'RBG-AI/CoRePooL', 'Remesita/tagged_reviews',\n",
      " 'Renukswamy/Patent_sentiment_analysis', 'RohanAiLab/persian_blog',\n",
      " 'RohanAiLab/persian_daily_news', 'RohanAiLab/persian_news_dataset',\n",
      " 'Romrawin/mn-sim', 'SCourthial/test', 'SajjadAyoubi/persian_qa',\n",
      " 'Sam2021/Arguement_Mining_CL2017', 'Samip/func',\n",
      " 'SaulLu/Natural_Questions_HTML', 'SaulLu/Natural_Questions_HTML_Toy',\n",
      " 'SaulLu/Natural_Questions_HTML_reduced_all', 'SaulLu/test',\n",
      " 'SaulLu/toy_struc_dataset', 'Serhii/Custom_SQuAD', 'ShinyQ/PPKM_Pemerintah',\n",
      " 'Smiling/webnovels-en', 'SoLID/shellcode_i_a32',\n",
      " 'SocialGrep/one-million-reddit-confessions',\n",
      " 'SocialGrep/one-million-reddit-jokes',\n",
      " 'SocialGrep/one-million-reddit-questions', 'SocialGrep/one-year-of-r-india',\n",
      " 'SocialGrep/reddit-crypto-aug-2021', 'SocialGrep/reddit-nonewnormal-complete',\n",
      " 'SocialGrep/reddit-wallstreetbets-aug-2021',\n",
      " 'SocialGrep/ten-million-reddit-answers', 'SocialGrep/the-reddit-covid-dataset',\n",
      " 'TRoboto/masc', 'Tatyana/ru_sentiment_dataset', 'Terry0107/RiSAWOZ',\n",
      " 'Tevatron/msmarco-passage-corpus', 'Tevatron/msmarco-passage',\n",
      " 'Tevatron/scifact-corpus', 'Tevatron/scifact',\n",
      " 'Tevatron/wikipedia-curated-corpus', 'Tevatron/wikipedia-curated',\n",
      " 'Tevatron/wikipedia-nq-corpus', 'Tevatron/wikipedia-nq',\n",
      " 'Tevatron/wikipedia-squad-corpus', 'Tevatron/wikipedia-squad',\n",
      " 'Tevatron/wikipedia-trivia-corpus', 'Tevatron/wikipedia-trivia',\n",
      " 'Tevatron/wikipedia-wq-corpus', 'Tevatron/wikipedia-wq',\n",
      " 'TheBlindBandit/SpongeNot', 'TimTreasure4/Test', 'Trainmaster9977/957',\n",
      " 'Trainmaster9977/zbakuman', 'TurkuNLP/turku_hockey_data2text',\n",
      " 'Tyler/wikimatrix_collapsed', 'Uri/tmp', 'VJGamer/test',\n",
      " 'VadorMazer/skyrimdialogstest', 'Valahaar/wsdmt', 'Vishva/UniFAQ_DataSET',\n",
      " 'Wikidepia/IndoParaCrawl', 'Wikidepia/IndoSQuAD', 'Wikidepia/mc4-filter',\n",
      " 'Wuhu0/output', 'WyrdCurt/AO4W', 'XiangPan/iflytek', 'XiangPan/snli_break',\n",
      " 'XiangXiang/clt', 'Xinghua/test', 'Yatoro/github-issues',\n",
      " 'Yatoro/github_issues', 'Yeva/arm-summary', 'Yves/fhnw_swiss_parliament',\n",
      " 'Zaid/coqa_expanded', 'Zaid/quac_expanded', 'abhishek/autonlp-data-imdb_eval',\n",
      " 'abwicke/C-B-R', 'abwicke/koplo', 'adamlin/FewShotWoz', 'adamlin/companion',\n",
      " 'adamlin/coqa_squad', 'adamlin/daily_dialog', 'adamlin/domain_classification',\n",
      " 'adamlin/multiwoz_dst', 'adamlin/qa_verification', 'adamlin/roc_story',\n",
      " 'adamlin/rs', 'adamlin/weibo_ner', 'ajmbell/test-dataset',\n",
      " 'akumar33/manufacturing', 'albertvillanova/datasets-tests-compression',\n",
      " 'albertvillanova/dummy_libri2mix', 'albertvillanova/tests-public-raw-jsonl',\n",
      " 'albertvillanova/tests-raw-jsonl', 'alireza655/alireza655',\n",
      " 'alittleie/mis_238', 'allegro/klej-allegro-reviews', 'allegro/klej-cbd',\n",
      " 'allegro/klej-cdsc-e', 'allegro/klej-cdsc-r', 'allegro/klej-dyk',\n",
      " 'allegro/klej-nkjp-ner', 'allegro/klej-polemo2-in', 'allegro/klej-polemo2-out',\n",
      " 'allegro/klej-psc', 'allegro/polish-question-passage-pairs',\n",
      " 'allegro/summarization-allegro-articles',\n",
      " 'allegro/summarization-polish-summaries-corpus', 'allenai/c4', 'allenai/scico',\n",
      " 'alperbayram/TwitterDuygu', 'alvp/autonlp-data-alberti-stanza-names',\n",
      " 'alvp/autonlp-data-alberti-stanzas-finetuning',\n",
      " 'ami-wav2vec2/ami_multi_headset_segmented_and_chunked',\n",
      " 'ami-wav2vec2/ami_multi_headset_segmented_and_chunked_and_concatenated',\n",
      " 'ami-wav2vec2/ami_multi_headset_segmented_and_chunked_dummy',\n",
      " 'ami-wav2vec2/ami_single_headset_segmented',\n",
      " 'ami-wav2vec2/ami_single_headset_segmented_and_chunked',\n",
      " 'ami-wav2vec2/ami_single_headset_segmented_and_chunked_and_concatenated',\n",
      " 'ami-wav2vec2/ami_single_headset_segmented_and_chunked_dummy',\n",
      " 'ami-wav2vec2/ami_single_headset_segmented_dummy',\n",
      " 'animesh/autonlp-data-peptides', 'anton-l/common_language', 'anton-l/superb',\n",
      " 'anton-l/superb_demo', 'anton-l/superb_dummy', 'anukaver/EstQA',\n",
      " 'arjunth2001/online_privacy_qna', 'artyeth/Dorian', 'aseifert/merlin',\n",
      " 'aseifert/pie-synthetic', 'ashish-shrivastava/dont-know-dataset',\n",
      " 'asi/wikitext_fr', 'asoroa/bsbasque', 'astarostap/antisemitic-tweets',\n",
      " 'astarostap/antisemitic_tweets', 'astarostap/autonlp-data-antisemitism-2',\n",
      " 'atelders/politweets', 'athar/QA', 'athivvat/thai-rap-lyrics',\n",
      " 'ausgequetschtem/jtrddfhfgh', 'bavard/personachat_truecased',\n",
      " 'bemanningssitua/dplremjfjfj', 'berkergurcay/2020-10K-Reports',\n",
      " 'bertin-project/mc4-es-sampled', 'bertin-project/mc4-sampling',\n",
      " 'bhadresh-savani/web_split', 'bigscience/LanguageResourceCatalogue',\n",
      " 'bigscience/P3', 'bigscience/mc4-sampled',\n",
      " 'bigscience/open_subtitles_monolingual', 'biu-nlp/qa_align',\n",
      " 'biu-nlp/qa_discourse', 'biu-nlp/qa_srl2018', 'biu-nlp/qa_srl2020',\n",
      " 'biu-nlp/qamr', 'biu-nlp/qanom', 'blinoff/medical_qa_ru_data',\n",
      " 'bondarchukb/autonlp-data-iab_classification', 'braincode/braincode',\n",
      " 'brunodorneles/ner', 'bs-modeling-metadata/OSCAR_Entity_13_000',\n",
      " 'bs-modeling-metadata/c4-en-reduced-10000-with-metadata',\n",
      " 'bs-modeling-metadata/c4-en-reduced-10000',\n",
      " 'bs-modeling-metadata/c4-en-reduced-with-metadata',\n",
      " 'bs-modeling-metadata/c4-en-reduced',\n",
      " 'bs-modeling-metadata/c4_newslike_url_only',\n",
      " 'bs-modeling-metadata/html-enwiki-200806-extract-raw',\n",
      " 'bs-modeling-metadata/openwebtext-html-cc',\n",
      " 'bs-modeling-metadata/website_metadata_c4', 'bs-modeling-metadata/wiki_dump',\n",
      " 'bsc/ancora-ca-ner', 'bsc/sts-ca', 'bsc/tecla', 'bsc/viquiquad',\n",
      " 'bsc/xquad-ca', 'caca/zscczs', 'cakiki/args_me', 'cakiki/paperswithcode',\n",
      " 'canwenxu/dogwhistle', 'cassandra-themis/QR-AN', 'castorini/mr-tydi-corpus',\n",
      " 'castorini/mr-tydi', 'castorini/msmarco_v1_doc_doc2query-t5_expansions',\n",
      " 'castorini/msmarco_v1_doc_segmented_doc2query-t5_expansions',\n",
      " 'castorini/msmarco_v1_passage_doc2query-t5_expansions',\n",
      " 'castorini/msmarco_v2_doc_doc2query-t5_expansions',\n",
      " 'castorini/msmarco_v2_doc_segmented_doc2query-t5_expansions',\n",
      " 'castorini/msmarco_v2_passage_doc2query-t5_expansions', 'caythuoc/caoduoclieu',\n",
      " 'ccccccc/hdjw_94ejrjr', 'ccdv/arxiv-classification',\n",
      " 'ccdv/arxiv-summarization', 'ccdv/cnn_dailymail',\n",
      " 'ccdv/govreport-summarization', 'ccdv/patent-classification',\n",
      " 'ccdv/pubmed-summarization', 'cdleong/piglatin-mt',\n",
      " 'cdleong/temp_africaNLP_keyword_spotting_for_african_languages',\n",
      " 'cdminix/iwslt2011', 'cdminix/mgb1', 'cemigo/taylor_vs_shakes',\n",
      " 'cemigo/test-data', 'cgarciae/point-cloud-mnist', 'cgarciae/point_cloud_mnist',\n",
      " 'chenyuxuan/wikigold', 'cheulyop/dementiabank', 'cheulyop/ksponspeech',\n",
      " 'chopey/dhivehi', 'clarin-pl/aspectemo', 'clarin-pl/cst-wikinews',\n",
      " 'clarin-pl/kpwr-ner', 'clarin-pl/nkjp-pos', 'clarin-pl/polemo2-official',\n",
      " 'classla/FRENK-hate-en', 'classla/FRENK-hate-hr', 'classla/FRENK-hate-sl',\n",
      " 'classla/copa_hr', 'classla/hr500k', 'classla/janes_tag', 'classla/reldi_hr',\n",
      " 'classla/reldi_sr', 'classla/setimes_sr', 'classla/ssj500k',\n",
      " 'clem/autonlp-data-french_word_detection', 'clips/mfaq', 'clips/mqa',\n",
      " 'cnrcastroli/aaaa', 'coala/kkk', 'congpt/dstc23_asr', 'corypaik/coda',\n",
      " 'corypaik/prost', 'craffel/openai_lambada', 'crich/cider',\n",
      " 'csarron/image-captions', 'csebuetnlp/xlsum', 'csebuetnlp/xnli_bn',\n",
      " 'cstrathe435/Task2Dial', 'ctl/ConceptualCaptions', 'cyko/books',\n",
      " 'dalle-mini/YFCC100M_OpenAI_subset',\n",
      " 'dalle-mini/encoded-vqgan_imagenet_f16_16384', 'dalle-mini/encoded',\n",
      " 'dasago78/dasago78dataset', 'dataset/wikipedia_bn', 'david-wb/zeshel',\n",
      " 'davidwisdom/reddit-randomness', 'deepset/germandpr', 'deepset/germanquad',\n",
      " 'dfgvhxfgv/fghghj', 'dfki-nlp/few-nerd', 'dfki-nlp/mobie',\n",
      " 'dgao/librispeech_nc_test', 'dgknrsln/Yorumsepeti', 'diiogo/brwac-clean',\n",
      " 'diiogo/harem-seletivo', 'diiogo/harem-total', 'diiogo/oscar',\n",
      " 'dispenst/jhghdghfd', 'dispix/test-dataset',\n",
      " 'dk-crazydiv/huggingface-modelhub', 'dog/friends-of-mine', 'dog/punks',\n",
      " 'dongpil/test', 'dvilasuero/ag_news_training_set_losses',\n",
      " 'dweb/squad_with_cola_scores', 'dynabench/dynasent', 'dynabench/qa',\n",
      " 'eason929/test', 'edfews/szdfcszdf', 'edichief/healthsea', 'edsas/fgrdtgrdtdr',\n",
      " 'edsas/grttyi', 'ehcalabres/ravdess_speech',\n",
      " 'ejjaffe/onion_headlines_2_sources', 'eliza-dukim/load_klue_re',\n",
      " 'elonmuskceo/persistent-space-dataset', 'emrecan/stsb-mt-turkish',\n",
      " 'erikacardenas300/Zillow_Economics_Dataset', 'ervis/aaa', 'ervis/qqq',\n",
      " 'eugenesiow/BSD100', 'eugenesiow/Div2k', 'eugenesiow/PIRM', 'eugenesiow/Set14',\n",
      " 'eugenesiow/Set5', 'eugenesiow/Urban100', 'ewdrtfwe/54refyghrtf',\n",
      " 'fatvvs/autonlp-data-entity_model_conll2003', 'fengzhang/fzTestDatasets',\n",
      " 'fihtrotuld/asu', 'flax-community/code_clippy_data',\n",
      " 'flax-community/conceptual-12m-mbart-50-multilingual',\n",
      " 'flax-community/conceptual-12m-multilingual-marian-128',\n",
      " 'flax-community/conceptual-12m-multilingual-marian-es',\n",
      " 'flax-community/conceptual-12m-multilingual-marian',\n",
      " 'flax-community/conceptual-captions-12', 'flax-community/dummy-oscar-als-32',\n",
      " 'flax-community/german-common-voice-processed',\n",
      " 'flax-community/german_common_crawl', 'flax-community/multilingual-vqa',\n",
      " 'flax-community/norwegian-clean-dummy', 'flax-community/swahili-safi',\n",
      " 'flax-sentence-embeddings/Gender_Bias_Evaluation_Set',\n",
      " 'flax-sentence-embeddings/paws-jsonl',\n",
      " 'flax-sentence-embeddings/stackexchange_math_jsonl',\n",
      " 'flax-sentence-embeddings/stackexchange_title_best_voted_answer_jsonl',\n",
      " 'flax-sentence-embeddings/stackexchange_title_body_jsonl',\n",
      " 'flax-sentence-embeddings/stackexchange_titlebody_best_and_down_voted_answer_jsonl',\n",
      " 'flax-sentence-embeddings/stackexchange_titlebody_best_voted_answer_jsonl',\n",
      " 'flax-sentence-embeddings/stackexchange_xml', 'flexudy/OMQD',\n",
      " 'formermagic/github_python_1m', 'formu/CVT', 'frahman/github-issues',\n",
      " 'frtna/machinetranslation_es-it', 'fulai/DuReader',\n",
      " 'fuliucansheng/data_for_test', 'fuliucansheng/minicoco',\n",
      " 'fuliucansheng/mininlp', 'fuliucansheng/pascal_voc', 'fuyun1107/clip-for-vlp',\n",
      " 'fvillena/cantemist', 'fvillena/spanish_diagnostics', 'gagan3012/fake-news',\n",
      " 'gagan3012/grover-data', 'gar1t/test', 'gayanin/pubmed-gastro-maskfilling',\n",
      " 'gayanin/pubmed-gastro-paraphrasing', 'gayanin/pubmed-gastro-summarisation',\n",
      " 'gcaillaut/citeseer', 'gcaillaut/cora', 'gcaillaut/pubmed',\n",
      " 'geekydevu/mlquestions', 'german-nlp-group/german_common_crawl',\n",
      " 'gmnlp/tico19', 'gpt3mix/rt20', 'gpt3mix/sst2', 'gsarti/change_it',\n",
      " 'gsarti/clean_mc4_it', 'gsarti/flores_101', 'gsarti/itacola', 'gsarti/wmt_vat',\n",
      " 'gustavecortal/fr_covid_news', 'gusu/mymodel1', 'habu24/fdz',\n",
      " 'hartzeer/kdfjdshfje', 'herbievore/test',\n",
      " 'hf-internal-testing/cats_vs_dogs_sample',\n",
      " 'hf-internal-testing/fixtures_ade20k', 'hf-internal-testing/fixtures_docvqa',\n",
      " 'hf-internal-testing/fixtures_image_utils', 'hf-internal-testing/fixtures_ocr',\n",
      " 'hf-internal-testing/librispeech_asr_demo',\n",
      " 'hf-internal-testing/librispeech_asr_dummy',\n",
      " 'hf-internal-testing/transformers-metadata', 'hfface/poopi', 'holodata/sensai',\n",
      " 'holylovenia/recam', 'honghungle/dataset', 'howardmiddleton382/esuyertusutr',\n",
      " 'howardmiddleton382/wgweagwege',\n",
      " 'huggingFaceUser02/air21_grp13_inference_results',\n",
      " 'huggingFaceUser02/air21_grp13_tokenized_results', 'huggingartists/21-savage',\n",
      " 'huggingartists/25-17', 'huggingartists/50-cent', 'huggingartists/5nizza',\n",
      " 'huggingartists/5opka', 'huggingartists/6ix9ine',\n",
      " 'huggingartists/aaron-watson', 'huggingartists/abba', 'huggingartists/adele',\n",
      " 'huggingartists/agata-christie', 'huggingartists/aikko',\n",
      " 'huggingartists/aimer', 'huggingartists/ajr', 'huggingartists/alan-walker',\n",
      " 'huggingartists/andre-3000', 'huggingartists/arash',\n",
      " 'huggingartists/architects', 'huggingartists/arctic-monkeys',\n",
      " 'huggingartists/ariana-grande', 'huggingartists/ariya',\n",
      " 'huggingartists/armin-van-buuren', 'huggingartists/as-i-lay-dying',\n",
      " 'huggingartists/asdfgfa', 'huggingartists/asper-x', 'huggingartists/baklan',\n",
      " 'huggingartists/big-baby-tape', 'huggingartists/big-russian-boss',\n",
      " 'huggingartists/bill-wurtz', 'huggingartists/billie-eilish',\n",
      " 'huggingartists/billy-talent', 'huggingartists/bladee',\n",
      " 'huggingartists/bob-dylan', 'huggingartists/bones', 'huggingartists/booker',\n",
      " 'huggingartists/boris-grebenshikov', 'huggingartists/braii',\n",
      " 'huggingartists/bring-me-the-horizon', 'huggingartists/bruce-springsteen',\n",
      " 'huggingartists/bryan-adams', 'huggingartists/burzum',\n",
      " 'huggingartists/bushido-zho', 'huggingartists/cardi-b',\n",
      " 'huggingartists/chester-bennington', 'huggingartists/chief-keef',\n",
      " 'huggingartists/cocomelon', 'huggingartists/coin', 'huggingartists/coldplay',\n",
      " 'huggingartists/dababy', 'huggingartists/david-bowie', 'huggingartists/ddt',\n",
      " 'huggingartists/death-grips', 'huggingartists/deep-purple',\n",
      " 'huggingartists/denderty', 'huggingartists/dermot-kennedy',\n",
      " 'huggingartists/dj-artem-artemov', 'huggingartists/doja-cat',\n",
      " 'huggingartists/drake', 'huggingartists/dua-lipa',\n",
      " 'huggingartists/duran-duran', 'huggingartists/dzhizus',\n",
      " 'huggingartists/ed-sheeran', 'huggingartists/egor-kreed',\n",
      " 'huggingartists/egor-letov', 'huggingartists/elton-john',\n",
      " 'huggingartists/eminem', 'huggingartists/enigma', 'huggingartists/enya',\n",
      " 'huggingartists/epic-rap-battles-of-history', 'huggingartists/face',\n",
      " 'huggingartists/fascinoma', 'huggingartists/fear-factory',\n",
      " 'huggingartists/florence-the-machine', 'huggingartists/freelancer',\n",
      " 'huggingartists/galenskaparna-and-after-shave', 'huggingartists/ghost',\n",
      " 'huggingartists/ghostemane', 'huggingartists/ghostmane',\n",
      " 'huggingartists/gizmo', 'huggingartists/gorillaz', 'huggingartists/green-day',\n",
      " 'huggingartists/grigory-leps', 'huggingartists/grimes', 'huggingartists/gspd',\n",
      " 'huggingartists/gunna', 'huggingartists/hillsong-worship',\n",
      " 'huggingartists/hyuna', 'huggingartists/i-dont-know-how-but-they-found-me',\n",
      " 'huggingartists/idktime', 'huggingartists/imagine-dragons',\n",
      " 'huggingartists/jah-khalib', 'huggingartists/jim-morrison',\n",
      " 'huggingartists/john-k-samson', 'huggingartists/john-lennon',\n",
      " 'huggingartists/joji', 'huggingartists/joni-mitchell',\n",
      " 'huggingartists/justin-bieber', 'huggingartists/kanye-west',\n",
      " 'huggingartists/kasta', 'huggingartists/kehlani',\n",
      " 'huggingartists/kendrick-lamar', 'huggingartists/king-krule',\n",
      " 'huggingartists/kipelov', 'huggingartists/kishlak', 'huggingartists/kizaru',\n",
      " 'huggingartists/kojey-radical', 'huggingartists/krechet',\n",
      " 'huggingartists/krept-and-konan-bugzy-malone-sl-morisson-abra-cadabra-rv-and-snap-capone',\n",
      " 'huggingartists/kurt-cobain', 'huggingartists/lady-gaga',\n",
      " 'huggingartists/lazy-jay', 'huggingartists/led-zeppelin',\n",
      " 'huggingartists/lil-baby', 'huggingartists/lil-nas-x',\n",
      " 'huggingartists/lil-peep', 'huggingartists/lil-skies',\n",
      " 'huggingartists/lil-uzi-vert', 'huggingartists/linkin-park',\n",
      " 'huggingartists/little-big', 'huggingartists/lizer', 'huggingartists/logic',\n",
      " 'huggingartists/lorde', 'huggingartists/loud-luxury',\n",
      " 'huggingartists/loverance', 'huggingartists/lovv66', 'huggingartists/lumen',\n",
      " 'huggingartists/lyapis-trubetskoy', 'huggingartists/macan',\n",
      " 'huggingartists/machine-gun-kelly', 'huggingartists/madonna',\n",
      " 'huggingartists/marillion', 'huggingartists/maroon-5',\n",
      " 'huggingartists/mashina-vremeni', 'huggingartists/mating-ritual',\n",
      " 'huggingartists/max-korzh', 'huggingartists/mayot', 'huggingartists/mc-ride',\n",
      " 'huggingartists/melanie-martinez', 'huggingartists/metallica',\n",
      " 'huggingartists/mf-doom', 'huggingartists/michael-jackson',\n",
      " 'huggingartists/mikhail-gorshenev', 'huggingartists/mikhail-krug',\n",
      " 'huggingartists/miyagi', 'huggingartists/mnogoznaal',\n",
      " 'huggingartists/morgenshtern', 'huggingartists/mumiy-troll',\n",
      " 'huggingartists/muse', 'huggingartists/nautilus-pompilius',\n",
      " 'huggingartists/nervy', 'huggingartists/nirvana', 'huggingartists/noize-mc',\n",
      " 'huggingartists/oasis', 'huggingartists/obladaet', 'huggingartists/og-buda',\n",
      " 'huggingartists/ot-rus', 'huggingartists/our-last-night',\n",
      " 'huggingartists/oxxxymiron', 'huggingartists/peter-paul-and-mary',\n",
      " 'huggingartists/pharaoh', 'huggingartists/phish', 'huggingartists/pink-floyd',\n",
      " 'huggingartists/placebo', 'huggingartists/platina', 'huggingartists/pop-smoke',\n",
      " 'huggingartists/post-malone', 'huggingartists/pyrokinesis',\n",
      " 'huggingartists/queen', 'huggingartists/radiohead',\n",
      " 'huggingartists/rage-against-the-machine', 'huggingartists/ramil',\n",
      " 'huggingartists/red-hot-chili-peppers', 'huggingartists/rex-orange-county',\n",
      " 'huggingartists/rihanna', 'huggingartists/rocket', 'huggingartists/sam-kim',\n",
      " 'huggingartists/scriptonite', 'huggingartists/sektor-gaza',\n",
      " 'huggingartists/sergei-letov', 'huggingartists/shadowraze',\n",
      " 'huggingartists/sia', 'huggingartists/sid-sriram', 'huggingartists/skillet',\n",
      " 'huggingartists/slava-kpss', 'huggingartists/slava-marlow',\n",
      " 'huggingartists/snoop-dogg', 'huggingartists/sqwore',\n",
      " 'huggingartists/sugar-ray', 'huggingartists/suicideoscope',\n",
      " 'huggingartists/sum-41', 'huggingartists/sundara-karma',\n",
      " 'huggingartists/system-of-a-down', 'huggingartists/t-fest',\n",
      " 'huggingartists/tanzy-minus', 'huggingartists/taylor-swift',\n",
      " 'huggingartists/tedeschi-trucks-band', 'huggingartists/the-69-eyes',\n",
      " 'huggingartists/the-avalanches', 'huggingartists/the-beatles',\n",
      " 'huggingartists/the-gazette', 'huggingartists/the-grateful-dead',\n",
      " 'huggingartists/the-king-and-the-jester', 'huggingartists/the-notorious-big',\n",
      " 'huggingartists/the-sugarcubes', 'huggingartists/the-the-pigs',\n",
      " 'huggingartists/the-velvet-underground', 'huggingartists/the-weeknd',\n",
      " 'huggingartists/tiamat', 'huggingartists/till-lindemann',\n",
      " 'huggingartists/tom-waits', 'huggingartists/tony-raut-and-garry-topor',\n",
      " 'huggingartists/tool', 'huggingartists/totpoc', 'huggingartists/travis-scott',\n",
      " 'huggingartists/twenty-one-pilots', 'huggingartists/upsahl',\n",
      " 'huggingartists/v-x-v-prince', 'huggingartists/van-morrison',\n",
      " 'huggingartists/veggietales', 'huggingartists/viktor-tsoi',\n",
      " 'huggingartists/vladimir-vysotsky', 'huggingartists/xxxtentacion',\n",
      " 'huggingartists/young-thug', 'huggingartists/yung-lean',\n",
      " 'huggingartists/yung-plague', 'huggingartists/zemfira',\n",
      " 'huggingface/DataMeasurementsFiles', 'huggingface/documentation-images',\n",
      " 'huggingface/label-files', 'huggingface/transformers-metadata',\n",
      " 'huggingface-course/codeparrot-ds-train',\n",
      " 'huggingface-course/codeparrot-ds-valid', 'huyongquan/d2',\n",
      " 'iamshsdf/sssssssssss', 'iarfmoose/qa_evaluator',\n",
      " 'iarfmoose/question_generator', 'image-search-2/unsplash_lite_image_dataset',\n",
      " 'imthanhlv/binhvq_dedup', 'imthanhlv/binhvq_news21_raw',\n",
      " 'indonesian-nlp/id_personachat', 'jaimin/wav2vec2-large-xlsr-gujarati-demo',\n",
      " 'jakeazcona/short-text-multi-labeled-emotion-classification',\n",
      " 'jakemarcus/MATH', 'jamol1741/test_dataset', 'jdepoix/junit_test_completion',\n",
      " 'jglaser/binding_affinity', 'jhqwqq/2', 'jimregan/clarinpl_sejmsenat',\n",
      " 'jimregan/clarinpl_studio', 'jimregan/foinse', 'jimregan/lasid',\n",
      " 'jinmang2/KorQuAD-v1.0', 'jinmang2/aihub-book-mrc', 'jinmang2/aihub-mrc',\n",
      " 'jinmang2/aistage-mrc', 'jinmang2/load_klue_re', 'jinmang2/pred',\n",
      " 'jinmang2/temp', 'jinmang2/vision-data', 'jiyoojeong/targetizer',\n",
      " 'jmamou/augmented-glue-sst2', 'joelito/ler', 'joelito/sem_eval_2010_task_8',\n",
      " 'jonfd/ICC', 'jozierski/ecomwebtexts-pl', 'jsgao/eli5_category',\n",
      " 'julien-c/dummy-dataset-from-colab', 'julien-c/persistent-space-dataset',\n",
      " 'julien-c/reactiongif', 'juliensimon/autonlp-data-song-lyrics-demo',\n",
      " 'juliensimon/autonlp-data-song-lyrics', 'juny116/few_glue', 'k-halid/ar',\n",
      " 'k0t1k/test', 'kaka10/fgfgfgfg', 'karinev/lanuitdudroit',\n",
      " 'kartikay/review-summarizer', 'katoensp/VR-OP', 'keshan/clean-si-mc4',\n",
      " 'keshan/large-sinhala-asr-dataset', 'keshan/multispeaker-tts-sinhala',\n",
      " 'keshan/wit-dataset', 'kevinlu1248/personificationgen',\n",
      " 'khalidsaifullaah/detecThreats', 'khanbaba/online_love',\n",
      " 'kiamehr74/CoarseWSD-20', 'kiyoung2/aistage-mrc', 'kiyoung2/temp',\n",
      " 'kleinay/qa_srl2018', 'kmfoda/booksum', 'kmfoda/booksum2', 'kmyoo/klue-tc-dev',\n",
      " 'knilakshan20/wikigold', 'laion/laion_100m_vqgan_f8', 'laion/laion_20m_dvae',\n",
      " 'lara-martin/Scifi_TV_Shows', 'lavis-nlp/german_legal_sentences',\n",
      " 'layboard/layboard.in', 'lbourdois/CoFiF', 'leiping/jj', 'leiping/teeee',\n",
      " 'leoapolonio/AMI_Meeting_Corpus', 'lewtun/asr-preds-test', 'lewtun/asr_dummy',\n",
      " 'lewtun/binary_classification_dummy', 'lewtun/bulk-superb-s3p-superb-49606',\n",
      " 'lewtun/drug-reviews', 'lewtun/gem-test-predictions',\n",
      " 'lewtun/gem-test-references', 'lewtun/github-issues-test',\n",
      " 'lewtun/github-issues', 'lewtun/mnist-preds', 'lewtun/my-awesome-dataset',\n",
      " 'lewtun/s3prl-sd-dummy', 'lewtun/text_classification_dummy',\n",
      " 'lhoestq/custom_squad', 'lhoestq/demo1', 'lhoestq/squad',\n",
      " 'lhoestq/squad_titles', 'lhoestq/test', 'lhoestq/test2', 'lhoestq/tmp',\n",
      " 'lhoestq/wikipedia_bn', 'liam168/nlp_c4_sentiment', 'lidia/202111',\n",
      " 'lincoln/newsquadfr', 'linhd-postdata/stanzas', 'liweili/c4_200m',\n",
      " 'lkiouiou/o9ui7877687', 'lkndsjkndgskjngkjsndkj/jsjdjsdvkjvszlhdskb',\n",
      " 'lohanna/testedjkcxkf', 'lorsorlah/Dadedadedam',\n",
      " 'loveguruji609/dfdfsdfsdfsdfsdfsd', 'lucien/sciencemission',\n",
      " 'lucien/voacantonesed', 'lucien/wsaderfffjjjhhh', 'lucio/common_voice_eval',\n",
      " 'lukasmasuch/my-test-repo-3', 'lukasmasuch/my-test-repo-4',\n",
      " 'lukasmasuch/test-2', 'lukasmasuch/test-3', 'lukasmasuch/test',\n",
      " 'lukesjordan/worldbank-project-documents', 'luofengge/mydata',\n",
      " 'luofengge/testDataset', 'luomingshuang/grid_lip_160_80',\n",
      " 'luozhouyang/dureader', 'luozhouyang/question-answering-datasets',\n",
      " 'lvwerra/codeparrot-clean-train', 'lvwerra/codeparrot-clean-valid',\n",
      " 'lvwerra/codeparrot-clean', 'lvwerra/codeparrot-valid-clean-minimal',\n",
      " 'lvwerra/codeparrot-valid', 'lvwerra/repo-images', 'lysandre/my-cool-dataset',\n",
      " 'm3hrdadfi/recipe_nlg_lite', 'mad/IndonesiaNewsDataset',\n",
      " 'maji/npo_mission_statement_ucf', 'majod/CleanNaturalQuestionsDataset',\n",
      " 'makanan/umich', 'manandey/OSCAR_Entity_Toy', 'manandey/entity_experiments',\n",
      " 'manishk31/Demo', 'mariosasko/beans', 'mariosasko/dummy_dataset',\n",
      " 'markscrivo/OddsOn', 'martodaniel/terere', 'masked-neuron/amazon',\n",
      " 'masked-neuron/ccd', 'maximedb/paws-x-all', 'maximedb/vaccinchat',\n",
      " 'maximedb/wow', 'medzaf/test', 'meghanabhange/chaii',\n",
      " 'meghanabhange/hilm141021', 'meghanabhange/hitalm141021',\n",
      " 'meghanabhange/hitalmsandbox', 'meghanabhange/talm141021', 'merve/coco',\n",
      " 'merve/folk-mythology-tales', 'merve/poetry', 'merve/qqp',\n",
      " 'metalearning/kaggale-nlp-tutorial',\n",
      " 'metopedia/autonlp-data-Multiple-Source-Language-Consensus-Reconstruction-o',\n",
      " 'mhtoin/register_oscar', 'michaelbenayoun/wikipedia-bert-128',\n",
      " 'microsoft/codexglue_method_generation', 'midas/inspec_ke_tagged',\n",
      " 'midas/ldke3k_medium', 'midas/ldke3k_small', 'midas/ldkp3k_small',\n",
      " 'midas/semeval2010_ke_tagged', 'midas/semeval2017_ke_tagged',\n",
      " 'mishig/sample_images', 'mksaad/Arabic_news', 'ml6team/cnn_dailymail_nl',\n",
      " 'mldmm/glass_alloy_composition',\n",
      " 'mmcquade11-test/reuters-for-summarization-two',\n",
      " 'mmm-da/rutracker_anime_torrent_titles', 'mnemlaghi/widdd', 'moshew/my_raft',\n",
      " 'moumeneb1/French_arpa_lm', 'mr-robot/ec', 'mrm8488/fake-news',\n",
      " 'mrojas/abbreviation', 'mrojas/body', 'mrojas/disease', 'mrojas/family',\n",
      " 'mrojas/finding', 'mrojas/medication', 'mrojas/procedure',\n",
      " 'mrp/Thai-Semantic-Textual-Similarity-Benchmark',\n",
      " 'muhtasham/autonlp-data-Doctor_DE', 'mulcyber/europarl-mono', 'munggok/mc4-id',\n",
      " 'mustafa12/db_ee', 'mustafa12/edaaaas', 'mustafa12/thors', 'mvarma/medwiki',\n",
      " 'nateraw/auto-cats-and-dogs', 'nateraw/auto-exp-2', 'nateraw/beans',\n",
      " 'nateraw/beans_old', 'nateraw/blahblah', 'nateraw/bulk-dummy',\n",
      " 'nateraw/cats-and-dogs', 'nateraw/cats_vs_dogs', 'nateraw/dummy-csv-dataset',\n",
      " 'nateraw/fairface', 'nateraw/filings-10k', 'nateraw/food101',\n",
      " 'nateraw/food101_old', 'nateraw/huggingpics-data-2',\n",
      " 'nateraw/huggingpics-data', 'nateraw/image-folder', 'nateraw/imagefolder',\n",
      " 'nateraw/imagenette', 'nateraw/img-demo', 'nateraw/rock_paper_scissors',\n",
      " 'nateraw/sync_food101', 'nateraw/test', 'nateraw/wit', 'nathanlsl/news',\n",
      " 'naver-clova-conversation/klue-tc-dev-tsv',\n",
      " 'naver-clova-conversation/klue-tc-tsv',\n",
      " 'naver-clova-conversation-ul/klue-tc-dev', 'navjordj/nak_nb',\n",
      " 'ncats/EpiClassify4GARD', 'ncats/EpiSet4NER',\n",
      " 'ncats/GARD_EpiSet4TextClassification', 'ncoop57/athena_data',\n",
      " 'ncoop57/csnc_human_judgement', 'ncoop57/rico_captions',\n",
      " 'neelalex/raft-predictions', 'nielsr/FUNSD_layoutlmv2', 'nielsr/XFUN',\n",
      " 'nielsr/funsd', 'nlpaueb/test', 'nlpufg/brwac-pt', 'nlpufg/brwac',\n",
      " 'nlpufg/oscar-pt', 'notional/notional-python', 'nucklehead/ht-voice-dataset',\n",
      " 'oelkrise/CRT', 'osanseviero/codeparrot-train', 'osanseviero/llama_test',\n",
      " 'osanseviero/test', 'oscar-corpus/OSCAR-2109', 'ought/raft-submission',\n",
      " 'ought/raft', 'outman/test', 'papluca/language-identification',\n",
      " 'pariajm/sharif_emotional_speech_dataset',\n",
      " 'parivartanayurveda/Malesexproblemsayurvedictreatment', 'pasinit/scotus',\n",
      " 'pasinit/xlwic', 'patrickvonplaten/ami_single_headset_segmented_and_chunked',\n",
      " 'patrickvonplaten/common_voice_6_tr',\n",
      " 'patrickvonplaten/common_voice_processed_turkish',\n",
      " 'patrickvonplaten/helena_coworking', 'patrickvonplaten/librispeech_asr_dummy',\n",
      " 'patrickvonplaten/librispeech_local',\n",
      " 'patrickvonplaten/librispeech_local_dummy',\n",
      " 'patrickvonplaten/scientific_papers_dummy', 'pdesoyres/test',\n",
      " 'peixian/equity_evaluation_corpus', 'peixian/rtGender', 'pelican/test_100',\n",
      " 'pere/norwegian_colossal_corpus_v2_short100k',\n",
      " 'persiannlp/parsinlu_entailment', 'persiannlp/parsinlu_query_paraphrasing',\n",
      " 'persiannlp/parsinlu_reading_comprehension', 'persiannlp/parsinlu_sentiment',\n",
      " 'persiannlp/parsinlu_translation_en_fa',\n",
      " 'persiannlp/parsinlu_translation_fa_en',\n",
      " 'peterbonnesoeur/autonlp-data-test_text_summarization',\n",
      " 'philschmid/test_german_squad', 'phonlab-tcd/cngv1',\n",
      " 'phonlab-tcd/corpuscrawler-ga', 'piEsposito/br-quad-2.0',\n",
      " 'piEsposito/br_quad_20', 'piEsposito/squad_20_ptbr',\n",
      " 'pierreant-p/jcvd-or-linkedin', 'pierresi/cord', 'pietrolesci/ag_news',\n",
      " 'piyumalanthony/Sinhala_news_comments_sentiment',\n",
      " 'princeton-nlp/datasets-for-simcse', 'priya3301/Graduation_admission',\n",
      " 'priya3301/tes', 'priya3301/test', 'proffttega/ILLUMINATI', 'proffttega/doc',\n",
      " 'proffttega/join_illuminati_to_become_rich', 'proffttega/persian_daily_news',\n",
      " 'projecte-aina/ancora-ca-ner', 'projecte-aina/sts-ca', 'projecte-aina/teca',\n",
      " 'projecte-aina/tecla', 'projecte-aina/vilaquad', 'projecte-aina/viquiquad',\n",
      " 'projecte-aina/xquad-ca', 'pulmo/chest_xray', 'qa4pc/QA4PC',\n",
      " 'qfortier/instagram_ny', 'qr/cefr_book_sentences', 'quis/vnexpress-train',\n",
      " 'qwant/squad_fr', 'rahular/itihasa', 'rajeshradhakrishnan/malayalam_2020_wiki',\n",
      " 'rajeshradhakrishnan/malayalam_news', 'rajeshradhakrishnan/malayalam_wiki',\n",
      " 'ramybaly/conll2012', 'ramybaly/nerd', 'ranim/Algerian-Arabic', 'ranpox/xfund',\n",
      " 'rays2pix/example', 'rays2pix/example_dataset', 'readerbench/ChatLinks',\n",
      " 'rewardsignal/reddit_writing_prompts', 'rom1504/laion400m',\n",
      " 'ronaldvanos/testdata', 'rony/soccer-dialogues', 'rookieguy12/dataset',\n",
      " 'rosettarandd/rosetta_balcanica', 'roskoN/dailydialog',\n",
      " 'roskoN/dstc8-reddit-corpus', 'rubenwol/multi_news_qasrl', 's-myk/test',\n",
      " 's3h/arabic-grammar-corrections', 's3h/custom-qalb-classification',\n",
      " 's3h/customized-qalb-v2', 's3h/customized-qalb', 'sagnikrayc/mctest',\n",
      " 'sagnikrayc/quasar', 'salesken/Paraphrase_category_detection', 'sanyu/aw',\n",
      " 'sanyu/er', 'sanyu/hh', 'sanyu/vb', 'sbrandeis/restricted-demo',\n",
      " 'sc2qa/sc2q_commoncrawl', 'sc2qa/sc2qa_commoncrawl', 'sdfufygvjh/fgghuviugviu',\n",
      " 'seamew/ChnSentiCorp', 'seamew/Hotel', 'seamew/THUCNews',\n",
      " 'seamew/THUCNewsText', 'seamew/THUCNewsTitle', 'seamew/Weibo',\n",
      " 'seanbethard/autonlp-data-summarization_model', 'sebastiaan/test-cefr',\n",
      " 'sentence-transformers/embedding-training-data',\n",
      " 'sentence-transformers/msmarco-hard-negatives',\n",
      " 'sentence-transformers/parallel-sentences',\n",
      " 'sentence-transformers/reddit-title-body', 'seregadgl/test_set',\n",
      " 'sevbqewre/vebdesbdty', 'severo/autonlp-data-sentiment_detection-3c8bcd36',\n",
      " 'severo/wit', 'shahrukhx01/questions-vs-statements',\n",
      " 'shanya/website_metadata_c4_toy', 'sharejing/BiPaR', 'shivkumarganesh/CoLA',\n",
      " 'shivmoha/squad-unanswerable', 'shivmoha/squad_adversarial_manual',\n",
      " 'shpotes/ms_coco', 'shpotes/tfcol', 'sijpapi/batch13', 'sijpapi/funsd',\n",
      " 'sijpapi/funsds', 'sileod/metaeval', 'sismetanin/rureviews',\n",
      " 'smallv0221/my-test', 'somaimanguyat/Genjer', 'somaimanguyat/Koboy',\n",
      " 'somaimanguyat/Movieonline2021', 'somaimanguyat/Salome',\n",
      " 'somaimanguyat/movie21', 'somaimanguyat/xiomay',\n",
      " 'spacemanidol/ms_marco_doc2query', 'spacemanidol/msmarco_passage_ranking',\n",
      " 'ssasaa/gghghgh', 'sshleifer/pseudo_bart_xsum', 'stas/c4-en-10k',\n",
      " 'stas/openwebtext-10k', 'stas/oscar-en-10k', 'stas/wmt14-en-de-pre-processed',\n",
      " 'stas/wmt16-en-ro-pre-processed', 'stevhliu/demo', 'stiel/skjdhjkasdhasjkd',\n",
      " 'subiksha/OwnDataset', 'superb/superb-data', 'susumu2357/squad_v2_sv',\n",
      " 'svakulenk0/qrecc', 'svakulenk0/spoken_kgqa',\n",
      " 'svalabs/all-nli-german-translation-wmt19',\n",
      " 'svalabs/ms-marco-german-translation-wmt19', 'svanhvit/iceErrorCorpus',\n",
      " 'svanhvit/icelandic-ner-MIM-GOLD-NER', 'tals/test', 'tanfiona/causenet_wiki',\n",
      " 'tarudesu/UIT-ViCTSD', 'tau/scrolls', 'testOrganization01/test05',\n",
      " 'tharindu/MOLD', 'thiemowa/argumentationreviewcorpus',\n",
      " 'thiemowa/empathyreviewcorpus', 'thomwolf/codeparrot-train',\n",
      " 'thomwolf/codeparrot-valid', 'thomwolf/codeparrot', 'thomwolf/github-dataset',\n",
      " 'thomwolf/github-python', 'thomwolf/very-good-dataset',\n",
      " 'thomwolf/very-test-dataset-2', 'thomwolf/very-test-dataset',\n",
      " 'tianbaoxiexxx/kvret', 'tianxing1994/temp', 'toloka/CrowdSpeech',\n",
      " 'toloka/VoxDIY-RusNews', 'tommy19970714/common_voice', 'toriving/kosimcse',\n",
      " 'toriving/talktalk-sentiment-210713-multi-singleturn-custom-multiturn',\n",
      " 'transformersbook/codeparrot-train', 'transformersbook/codeparrot-valid',\n",
      " 'transformersbook/codeparrot', 'ttj/metadata_arxiv', 'turingbench/TuringBench',\n",
      " 'uasoyasser/rgfes', 'ujjawal1612/quora', 'unicamp-dl/mmarco',\n",
      " 'usc-isi/WikiConvert', 'uva-irlab/canard_quretec',\n",
      " 'uva-irlab/trec-cast-2019-multi-turn', 'uyeongjae/load_klue_re_agmented',\n",
      " 'vasudevgupta/amazon-ml-hack',\n",
      " 'vasudevgupta/bigbird-tokenized-natural-questions', 'vasudevgupta/data',\n",
      " 'vasudevgupta/gsoc-librispeech', 'vasudevgupta/natural-questions-validation',\n",
      " 'vasudevgupta/prml_data_contest',\n",
      " 'vasudevgupta/temperature-distribution-2d-plate',\n",
      " 'vasudevgupta/temperature-distribution-3d-cylinder', 'vblagoje/eli5',\n",
      " 'vblagoje/eli5_support_docs', 'vblagoje/eli5v1',\n",
      " 'vblagoje/wikipedia_snippets_streamed', 'vctc92/sdsd', 'vctc92/test',\n",
      " 'vera-pro/ShadowLink', 'versae/bibles', 'versae/modernisa',\n",
      " 'versae/norwegian-t5-dataset-debug', 'versae/norwegian-t5-dataset-debug2',\n",
      " 'versae/norwegian-t5-dataset-debug3', 'vershasaxena91/datasets',\n",
      " 'vershasaxena91/squad_multitask', 'vesteinn/IC3',\n",
      " 'vesteinn/icelandic-ner-MIM-GOLD-NER', 'vishnun/huggingpics-data',\n",
      " 'vs4vijay/VizDS', 'w-nicole/childes_data', 'w-nicole/childes_data_no_tags',\n",
      " 'w-nicole/childes_data_no_tags_', 'w-nicole/childes_data_with_tags',\n",
      " 'w-nicole/childes_data_with_tags_', 'w11wo/imdb-javanese', 'wardenga/lsoie',\n",
      " 'webek18735/ddvoacantonesed', 'webek18735/dhikhscook',\n",
      " 'webimmunization/COVID-19-vaccine-attitude-tweets', 'webis/args_me',\n",
      " 'webis/conclugen', 'weijieliu/senteval_cn', 'wifis/ouivirtual',\n",
      " 'wisdomify/story', 'wmt/europarl', 'wmt/news-commentary', 'wmt/uncorpus',\n",
      " 'wmt/wikititles', 'wmt/wmt10', 'wmt/wmt13', 'wmt/wmt14', 'wmt/wmt15',\n",
      " 'wmt/wmt16', 'wmt/wmt17', 'wmt/wmt18', 'wmt/wmt19',\n",
      " 'wzkariampuzha/EpiClassifySet', 'wzkariampuzha/EpiExtract4GARD',\n",
      " 'wzywzy/telegram_summary', 'x-tech/cantonese-mandarin-translations',\n",
      " 'xiaj/ds_test', 'xiaj/test0919', 'xiaobendanyn/demo', 'xiaobendanyn/nyt10',\n",
      " 'xiaobendanyn/tacred', 'yannobla/Sunshine', 'yazdipour/text-to-sparql-kdwd',\n",
      " 'yhavinga/mc4_nl_cleaned', 'yluisfern/PBU', 'yo/devparty',\n",
      " 'yuanchuan/annotated_reference_strings', 'yuvalkirstain/asset',\n",
      " 'yxchar/ag-tlm', 'yxchar/amazon-tlm', 'yxchar/chemprot-tlm',\n",
      " 'yxchar/citation_intent-tlm', 'yxchar/hyp-tlm', 'yxchar/imdb-tlm',\n",
      " 'yxchar/rct-20k-tlm', 'yxchar/sciie-tlm', 'z-uo/squad-it',\n",
      " 'zf-org/org_dataset', 'zfaB4Hmm/test', 'zloelias/kinopoisk-reviews',\n",
      " 'zloelias/lenta-ru', 'zlucia/casehold', 'acronym_identification',\n",
      " 'ade_corpus_v2', 'adversarial_qa', 'aeslc', 'afrikaans_ner_corpus', 'ag_news',\n",
      " 'ai2_arc', 'air_dialogue', 'ajgt_twitter_ar', 'allegro_reviews', 'allocine',\n",
      " 'alt', 'amazon_polarity', 'amazon_reviews_multi', 'amazon_us_reviews',\n",
      " 'ambig_qa', 'ami', 'amttl', 'anli', 'app_reviews', 'aqua_rat', 'aquamuse',\n",
      " 'ar_cov19', 'ar_res_reviews', 'ar_sarcasm', 'arabic_billion_words',\n",
      " 'arabic_pos_dialect', 'arabic_speech_corpus', 'arcd', 'arsentd_lev', 'art',\n",
      " 'arxiv_dataset', 'ascent_kb', 'aslg_pc12', 'asnq', 'asset', 'assin', 'assin2',\n",
      " 'atomic', 'autshumato', 'babi_qa', 'banking77', 'bbaw_egyptian',\n",
      " 'bbc_hindi_nli', 'bc2gm_corpus', 'beans', 'best2009', 'bianet', 'bible_para',\n",
      " 'big_patent', 'billsum', 'bing_coronavirus_query_set', 'biomrc', 'biosses',\n",
      " 'blended_skill_talk', 'blimp', 'blog_authorship_corpus', 'bn_hate_speech',\n",
      " 'bookcorpus', 'bookcorpusopen', 'boolq', 'bprec', 'break_data', 'brwac',\n",
      " 'bsd_ja_en', 'bswac', 'c3', 'c4', 'cail2018', 'caner', 'capes', 'casino',\n",
      " 'catalonia_independence', 'cats_vs_dogs', 'cawac', 'cbt', 'cc100', 'cc_news',\n",
      " 'ccaligned_multilingual', 'cdsc', 'cdt', 'cedr', 'cfq', 'chr_en', 'cifar10',\n",
      " 'cifar100', 'circa', 'civil_comments', 'clickbait_news_bg', 'climate_fever',\n",
      " 'clinc_oos', 'clue', 'cmrc2018', 'cmu_hinglish_dog', 'cnn_dailymail',\n",
      " 'coached_conv_pref', 'coarse_discourse', 'codah', 'code_search_net',\n",
      " 'code_x_glue_cc_clone_detection_big_clone_bench',\n",
      " 'code_x_glue_cc_clone_detection_poj104', 'code_x_glue_cc_cloze_testing_all',\n",
      " 'code_x_glue_cc_cloze_testing_maxmin', 'code_x_glue_cc_code_completion_line',\n",
      " 'code_x_glue_cc_code_completion_token', 'code_x_glue_cc_code_refinement',\n",
      " 'code_x_glue_cc_code_to_code_trans', 'code_x_glue_cc_defect_detection',\n",
      " 'code_x_glue_ct_code_to_text', 'code_x_glue_tc_nl_code_search_adv',\n",
      " 'code_x_glue_tc_text_to_code', 'code_x_glue_tt_text_to_text', 'com_qa',\n",
      " 'common_gen', 'common_language', 'common_voice', 'commonsense_qa',\n",
      " 'competition_math', 'compguesswhat', 'conceptnet5', 'conll2000', 'conll2002',\n",
      " 'conll2003', 'conllpp', 'conv_ai', 'conv_ai_2', 'conv_ai_3', 'conv_questions',\n",
      " 'coqa', 'cord19', 'cornell_movie_dialog', 'cos_e', 'cosmos_qa', 'counter',\n",
      " 'covid_qa_castorini', 'covid_qa_deepset', 'covid_qa_ucsd',\n",
      " 'covid_tweets_japanese', 'covost2', 'craigslist_bargains', 'crawl_domain',\n",
      " 'crd3', 'crime_and_punish', 'crows_pairs', 'cryptonite', 'cs_restaurants',\n",
      " 'cuad', 'curiosity_dialogs', 'daily_dialog', 'dane',\n",
      " 'danish_political_comments', 'dart', 'datacommons_factcheck', 'dbpedia_14',\n",
      " 'dbrd', 'deal_or_no_dialog', 'definite_pronoun_resolution', 'dengue_filipino',\n",
      " 'dialog_re', 'diplomacy_detection', 'disaster_response_messages', 'discofuse',\n",
      " 'discovery', 'disfl_qa', 'doc2dial', 'docred', 'doqa', 'dream', 'drop',\n",
      " 'duorc', 'dutch_social', 'dyk', 'e2e_nlg', 'e2e_nlg_cleaned', 'ecb',\n",
      " 'ecthr_cases', 'eduge', 'ehealth_kd', 'eitb_parcc', 'eli5', 'emea', 'emo',\n",
      " 'emotion', 'emotone_ar', 'empathetic_dialogues', 'enriched_web_nlg',\n",
      " 'eraser_multi_rc', 'esnli', 'eth_py150_open', 'ethos', 'eu_regulatory_ir',\n",
      " 'eurlex', 'euronews', 'europa_eac_tm', 'europa_ecdc_tm', 'europarl_bilingual',\n",
      " 'event2Mind', 'evidence_infer_treatment', 'exams', 'factckbr',\n",
      " 'fake_news_english', 'fake_news_filipino', 'farsi_news', 'fashion_mnist',\n",
      " 'fever', 'few_rel', 'financial_phrasebank', 'finer', 'flores', 'flue',\n",
      " 'food101', 'fquad', 'freebase_qa', 'gap', 'gem', 'generated_reviews_enth',\n",
      " 'generics_kb', 'german_legal_entity_recognition', 'germaner', 'germeval_14',\n",
      " 'giga_fren', 'gigaword', 'glucose', 'glue', 'gnad10', 'go_emotions', 'gooaq',\n",
      " 'google_wellformed_query', 'grail_qa', 'great_code', 'greek_legal_code',\n",
      " 'guardian_authorship', 'gutenberg_time', 'hans', 'hansards', 'hard', 'harem',\n",
      " 'has_part', 'hate_offensive', 'hate_speech18', 'hate_speech_filipino',\n",
      " 'hate_speech_offensive', 'hate_speech_pl', 'hate_speech_portuguese',\n",
      " 'hatexplain', 'hausa_voa_ner', 'hausa_voa_topics', 'hda_nli_hindi', 'head_qa',\n",
      " 'health_fact', 'hebrew_projectbenyehuda', 'hebrew_sentiment',\n",
      " 'hebrew_this_world', 'hellaswag', 'hendrycks_test', 'hind_encorp',\n",
      " 'hindi_discourse', 'hippocorpus', 'hkcancor', 'hlgd', 'hope_edi', 'hotpot_qa',\n",
      " 'hover', 'hrenwac_para', 'hrwac', 'humicroedit', 'hybrid_qa',\n",
      " 'hyperpartisan_news_detection', 'iapp_wiki_qa_squad', 'id_clickbait',\n",
      " 'id_liputan6', 'id_nergrit_corpus', 'id_newspapers_2018', 'id_panl_bppt',\n",
      " 'id_puisi', 'igbo_english_machine_translation', 'igbo_monolingual', 'igbo_ner',\n",
      " 'ilist', 'imdb', 'imdb_urdu_reviews', 'imppres', 'indic_glue', 'indonli',\n",
      " 'indonlu', 'inquisitive_qg', 'interpress_news_category_tr',\n",
      " 'interpress_news_category_tr_lite', 'irc_disentangle', 'isixhosa_ner_corpus',\n",
      " 'isizulu_ner_corpus', 'iwslt2017', 'jeopardy', 'jfleg', 'jigsaw_toxicity_pred',\n",
      " 'jigsaw_unintended_bias', 'jnlpba', 'journalists_questions', 'kan_hope',\n",
      " 'kannada_news', 'kd_conv', 'kde4', 'kelm', 'kilt_tasks', 'kilt_wikipedia',\n",
      " 'kinnews_kirnews', 'klue', 'kor_3i4k', 'kor_hate', 'kor_ner', 'kor_nli',\n",
      " 'kor_nlu', 'kor_qpair', 'kor_sae', 'kor_sarcasm', 'labr', 'lama', 'lambada',\n",
      " 'large_spanish_corpus', 'laroseda', 'lc_quad', 'lener_br', 'lex_glue', 'liar',\n",
      " 'librispeech_asr', 'librispeech_lm', 'limit', 'lince', 'linnaeus', 'liveqa',\n",
      " 'lj_speech', 'lm1b', 'lst20', 'm_lama', 'mac_morpho', 'makhzan', 'masakhaner',\n",
      " 'math_dataset', 'math_qa', 'matinf', 'mbpp', 'mc4', 'mc_taco',\n",
      " 'md_gender_bias', 'mdd', 'med_hop', 'medal', 'medical_dialog',\n",
      " 'medical_questions_pairs', 'menyo20k_mt', 'meta_woz', 'metooma', 'metrec',\n",
      " 'miam', 'mkb', 'mkqa', 'mlqa', 'mlsum', 'mnist', 'mocha', 'moroco',\n",
      " 'movie_rationales', 'mrqa', 'ms_marco', 'ms_terms', 'msr_genomics_kbcomp',\n",
      " 'msr_sqa', 'msr_text_compression', 'msr_zhen_translation_parity', 'msra_ner',\n",
      " 'mt_eng_vietnamese', 'muchocine', 'multi_booked', 'multi_eurlex', 'multi_news',\n",
      " 'multi_nli', 'multi_nli_mismatch', 'multi_para_crawl', 'multi_re_qa',\n",
      " 'multi_woz_v22', 'multi_x_science_sum', 'multidoc2dial',\n",
      " 'multilingual_librispeech', 'mutual_friends', 'mwsc', 'myanmar_news',\n",
      " 'narrativeqa', 'narrativeqa_manual', 'natural_questions', 'ncbi_disease',\n",
      " 'nchlt', 'ncslgr', 'nell', 'neural_code_search', 'news_commentary',\n",
      " 'newsgroup', 'newsph', 'newsph_nli', 'newspop', 'newsqa', 'newsroom',\n",
      " 'nkjp-ner', 'nli_tr', 'nlu_evaluation_data', 'norec', 'norne', 'norwegian_ner',\n",
      " 'nq_open', 'nsmc', 'numer_sense', 'numeric_fused_head', 'oclar', 'offcombr',\n",
      " 'offenseval2020_tr', 'offenseval_dravidian', 'ofis_publik', 'ohsumed', 'ollie',\n",
      " 'omp', 'onestop_english', 'open_subtitles', 'openai_humaneval', 'openbookqa',\n",
      " 'openslr', 'openwebtext', 'opinosis', 'opus100', 'opus_books', 'opus_dgt',\n",
      " 'opus_dogc', 'opus_elhuyar', 'opus_euconst', 'opus_finlex', 'opus_fiskmo',\n",
      " 'opus_gnome', 'opus_infopankki', 'opus_memat', 'opus_montenegrinsubs',\n",
      " 'opus_openoffice', 'opus_paracrawl', 'opus_rf', 'opus_tedtalks', 'opus_ubuntu',\n",
      " 'opus_wikipedia', 'opus_xhosanavy', 'orange_sum', 'oscar', 'para_crawl',\n",
      " 'para_pat', 'parsinlu_reading_comprehension', 'paws', 'paws-x', 'pec',\n",
      " 'peer_read', 'peoples_daily_ner', 'per_sent', 'persian_ner', 'pg19', 'php',\n",
      " 'piaf', 'pib', 'piqa', 'pn_summary', 'poem_sentiment', 'polemo2',\n",
      " 'poleval2019_cyberbullying', 'poleval2019_mt', 'polsum', 'polyglot_ner',\n",
      " 'prachathai67k', 'pragmeval', 'proto_qa', 'psc', 'ptb_text_only', 'pubmed',\n",
      " 'pubmed_qa', 'py_ast', 'qa4mre', 'qa_srl', 'qa_zre', 'qangaroo', 'qanta',\n",
      " 'qasc', 'qasper', 'qed', 'qed_amara', 'quac', 'quail', 'quarel', 'quartz',\n",
      " 'quora', 'quoref', 'race', 're_dial', 'reasoning_bg', 'recipe_nlg', 'reclor',\n",
      " 'reddit', 'reddit_tifu', 'refresd', 'reuters21578', 'riddle_sense', 'ro_sent',\n",
      " 'ro_sts', 'ro_sts_parallel', 'roman_urdu', 'ronec', 'ropes', 'rotten_tomatoes',\n",
      " 'russian_super_glue', 's2orc', 'samsum', 'sanskrit_classic', 'saudinewsnet',\n",
      " 'sberquad', 'scan', 'scb_mt_enth_2020', 'schema_guided_dstc8', 'scicite',\n",
      " 'scielo', 'scientific_papers', 'scifact', 'sciq', 'scitail', 'scitldr',\n",
      " 'search_qa', 'sede', 'selqa', 'sem_eval_2010_task_8', 'sem_eval_2014_task_1',\n",
      " 'sem_eval_2018_task_1', 'sem_eval_2020_task_11', 'sent_comp', 'senti_lex',\n",
      " 'senti_ws', 'sentiment140', 'sepedi_ner', 'sesotho_ner_corpus', 'setimes',\n",
      " 'setswana_ner_corpus', 'sharc', 'sharc_modified', 'sick', 'silicone',\n",
      " 'simple_questions_v2', 'siswati_ner_corpus', 'smartdata', 'sms_spam',\n",
      " 'snips_built_in_intents', 'snli', 'snow_simplified_japanese_corpus',\n",
      " 'so_stacksample', 'social_bias_frames', 'social_i_qa',\n",
      " 'sofc_materials_articles', 'sogou_news', 'spanish_billion_words', 'spc',\n",
      " 'species_800', 'spider', 'squad', 'squad_adversarial', 'squad_es', 'squad_it',\n",
      " 'squad_kor_v1', 'squad_kor_v2', 'squad_v1_pt', 'squad_v2', 'squadshifts',\n",
      " 'srwac', 'sst', 'stereoset', 'story_cloze', 'stsb_mt_sv', 'stsb_multi_mt',\n",
      " 'style_change_detection', 'subjqa', 'super_glue', 'superb', 'swag', 'swahili',\n",
      " 'swahili_news', 'swda', 'swedish_medical_ner', 'swedish_ner_corpus',\n",
      " 'swedish_reviews', 'swiss_judgment_prediction', 'tab_fact',\n",
      " 'tamilmixsentiment', 'tanzil', 'tapaco', 'tashkeela', 'taskmaster1',\n",
      " 'taskmaster2', 'taskmaster3', 'tatoeba', 'ted_hrlr', 'ted_iwlst2013',\n",
      " 'ted_multi', 'ted_talks_iwslt', 'telugu_books', 'telugu_news',\n",
      " 'tep_en_fa_para', 'thai_toxicity_tweet', 'thainer', 'thaiqa_squad', 'thaisum',\n",
      " 'the_pile', 'the_pile_books3', 'the_pile_openwebtext2',\n",
      " 'the_pile_stack_exchange', 'tilde_model', 'time_dial',\n",
      " 'times_of_india_news_headlines', 'timit_asr', 'tiny_shakespeare', 'tlc',\n",
      " 'tmu_gfm_dataset', 'totto', 'trec', 'trivia_qa', 'tsac', 'ttc4900', 'tunizi',\n",
      " 'tuple_ie', 'turk', 'turkish_movie_sentiment', 'turkish_ner',\n",
      " 'turkish_product_reviews', 'turkish_shrinked_ner', 'turku_ner_corpus',\n",
      " 'tweet_eval', 'tweet_qa', 'tweets_ar_en_parallel',\n",
      " 'tweets_hate_speech_detection', 'twi_text_c3', 'twi_wordsim353', 'tydiqa',\n",
      " 'ubuntu_dialogs_corpus', 'udhr', 'um005', 'un_ga', 'un_multi', 'un_pc',\n",
      " 'universal_dependencies', 'universal_morphologies', 'urdu_fake_news',\n",
      " 'urdu_sentiment_corpus', 'vivos', 'web_nlg', 'web_of_science', 'web_questions',\n",
      " 'weibo_ner', 'wi_locness', 'wiki40b', 'wiki_asp', 'wiki_atomic_edits',\n",
      " 'wiki_auto', 'wiki_bio', 'wiki_dpr', 'wiki_hop', 'wiki_lingua', 'wiki_movies',\n",
      " 'wiki_qa', 'wiki_qa_ar', 'wiki_snippets', 'wiki_source', 'wiki_split',\n",
      " 'wiki_summary', 'wikiann', 'wikicorpus', 'wikihow', 'wikipedia', 'wikisql',\n",
      " 'wikitext', 'wikitext_tl39', 'wili_2018', 'wino_bias', 'winograd_wsc',\n",
      " 'winogrande', 'wiqa', 'wisesight1000', 'wisesight_sentiment', 'wmt14', 'wmt15',\n",
      " 'wmt16', 'wmt17', 'wmt18', 'wmt19', 'wmt20_mlqe_task1', 'wmt20_mlqe_task2',\n",
      " 'wmt20_mlqe_task3', 'wmt_t2t', 'wnut_17', 'wongnai_reviews', 'woz_dialogue',\n",
      " 'wrbsc', 'x_stance', 'xcopa', 'xcsr', 'xed_en_fi', 'xglue', 'xnli',\n",
      " 'xor_tydi_qa', 'xquad', 'xquad_r', 'xsum', 'xsum_factuality', 'xtreme',\n",
      " 'yahoo_answers_qa', 'yahoo_answers_topics', 'yelp_polarity',\n",
      " 'yelp_review_full', 'yoruba_bbc_topics', 'yoruba_gv_ner', 'yoruba_text_c3',\n",
      " 'yoruba_wordsim353', 'youtube_caption_corrections', 'zest', 'rwebe/rwebe']\n"
     ]
    }
   ],
   "source": [
    "pprint(datasets_list,compact=True) "
   ]
  },
  {
   "cell_type": "markdown",
   "id": "bc84f41b",
   "metadata": {},
   "source": [
    "### Initialise Sagemaker variables and create S3 bucket"
   ]
  },
  {
   "cell_type": "code",
   "execution_count": 16,
   "id": "d7f1ce21",
   "metadata": {},
   "outputs": [],
   "source": [
    "from sagemaker.huggingface.processing import HuggingFaceProcessor\n",
    "import sagemaker\n",
    "from sagemaker import get_execution_role"
   ]
  },
  {
   "cell_type": "code",
   "execution_count": 17,
   "id": "7c0fa2cc",
   "metadata": {},
   "outputs": [],
   "source": [
    "sess = sagemaker.Session()\n",
    "role = sagemaker.get_execution_role()"
   ]
  },
  {
   "cell_type": "code",
   "execution_count": 18,
   "id": "8e7992ca",
   "metadata": {},
   "outputs": [
    {
     "data": {
      "text/plain": [
       "<sagemaker.session.Session at 0x7f4c8c399950>"
      ]
     },
     "execution_count": 18,
     "metadata": {},
     "output_type": "execute_result"
    }
   ],
   "source": [
    "sess"
   ]
  },
  {
   "cell_type": "code",
   "execution_count": 19,
   "id": "5caca73a",
   "metadata": {},
   "outputs": [
    {
     "data": {
      "text/plain": [
       "'arn:aws:iam::197614225699:role/bi-sagemaker-access'"
      ]
     },
     "execution_count": 19,
     "metadata": {},
     "output_type": "execute_result"
    }
   ],
   "source": [
    "role "
   ]
  },
  {
   "cell_type": "code",
   "execution_count": 20,
   "id": "5d8f9b2f",
   "metadata": {},
   "outputs": [
    {
     "data": {
      "text/plain": [
       "'197614225699'"
      ]
     },
     "execution_count": 20,
     "metadata": {},
     "output_type": "execute_result"
    }
   ],
   "source": [
    "sess.account_id()"
   ]
  },
  {
   "cell_type": "code",
   "execution_count": 21,
   "id": "479f924f",
   "metadata": {},
   "outputs": [],
   "source": [
    "bucket = f\"emotion-class-{sess.account_id()}\"\n",
    "sess._create_s3_bucket_if_it_does_not_exist(bucket_name=bucket, region=sess._region_name)"
   ]
  },
  {
   "cell_type": "code",
   "execution_count": 55,
   "id": "ad0d96bc",
   "metadata": {},
   "outputs": [
    {
     "data": {
      "text/plain": [
       "'emotion-class-197614225699'"
      ]
     },
     "execution_count": 55,
     "metadata": {},
     "output_type": "execute_result"
    }
   ],
   "source": [
    "bucket "
   ]
  },
  {
   "cell_type": "markdown",
   "id": "580cfaf3",
   "metadata": {},
   "source": [
    "### Save the name of the S3 bucket for later sessions"
   ]
  },
  {
   "cell_type": "code",
   "execution_count": 36,
   "id": "b6fc8b56",
   "metadata": {},
   "outputs": [
    {
     "name": "stdout",
     "output_type": "stream",
     "text": [
      "Stored 'bucket' (str)\n"
     ]
    }
   ],
   "source": [
    "%store bucket"
   ]
  },
  {
   "cell_type": "markdown",
   "id": "e0d4bc67",
   "metadata": {},
   "source": [
    "### Set up processing job"
   ]
  },
  {
   "cell_type": "code",
   "execution_count": 59,
   "id": "ebc07136",
   "metadata": {},
   "outputs": [],
   "source": [
    "hf_processor = HuggingFaceProcessor(\n",
    "    role=role,\n",
    "    instance_type=\"ml.p2.xlarge\",\n",
    "    transformers_version='4.6',\n",
    "    base_job_name=\"emotion-class\",\n",
    "    pytorch_version='1.7',\n",
    "    instance_count=1,\n",
    ")"
   ]
  },
  {
   "cell_type": "code",
   "execution_count": 60,
   "id": "f071f2d8",
   "metadata": {},
   "outputs": [],
   "source": [
    "from sagemaker.processing import ProcessingInput, ProcessingOutput\n",
    "\n",
    "outputs=[\n",
    "        ProcessingOutput(output_name=\"train_data\", source=\"/opt/ml/processing/training\", destination=f\"s3://{bucket}/processing_output/train_data\"),\n",
    "        ProcessingOutput(output_name=\"validation_data\", source=\"/opt/ml/processing/validation\", destination=f\"s3://{bucket}/processing_output/validation_data\"),\n",
    "        ProcessingOutput(output_name=\"test_data\", source=\"/opt/ml/processing/test\", destination=f\"s3://{bucket}/processing_output/test_data\"),\n",
    "    ]\n",
    "arguments = [\"--dataset-name\", \"emotion\",\n",
    "             \"--model-name\", \"roberta-base\",\n",
    "            \"--batch-size\", \"500\",]"
   ]
  },
  {
   "cell_type": "code",
   "execution_count": 61,
   "id": "ec18d9a4",
   "metadata": {},
   "outputs": [
    {
     "name": "stdout",
     "output_type": "stream",
     "text": [
      "\n",
      "Job Name:  emotion-class-2021-12-01-21-37-25-005\n",
      "Inputs:  [{'InputName': 'code', 'AppManaged': False, 'S3Input': {'S3Uri': 's3://sagemaker-us-east-1-197614225699/emotion-class-2021-12-01-21-37-25-005/source/sourcedir.tar.gz', 'LocalPath': '/opt/ml/processing/input/code/', 'S3DataType': 'S3Prefix', 'S3InputMode': 'File', 'S3DataDistributionType': 'FullyReplicated', 'S3CompressionType': 'None'}}, {'InputName': 'entrypoint', 'AppManaged': False, 'S3Input': {'S3Uri': 's3://sagemaker-us-east-1-197614225699/emotion-class-2021-12-01-21-37-25-005/source/runproc.sh', 'LocalPath': '/opt/ml/processing/input/entrypoint', 'S3DataType': 'S3Prefix', 'S3InputMode': 'File', 'S3DataDistributionType': 'FullyReplicated', 'S3CompressionType': 'None'}}]\n",
      "Outputs:  [{'OutputName': 'train_data', 'AppManaged': False, 'S3Output': {'S3Uri': 's3://emotion-class-197614225699/processing_output/train_data', 'LocalPath': '/opt/ml/processing/training', 'S3UploadMode': 'EndOfJob'}}, {'OutputName': 'validation_data', 'AppManaged': False, 'S3Output': {'S3Uri': 's3://emotion-class-197614225699/processing_output/validation_data', 'LocalPath': '/opt/ml/processing/validation', 'S3UploadMode': 'EndOfJob'}}, {'OutputName': 'test_data', 'AppManaged': False, 'S3Output': {'S3Uri': 's3://emotion-class-197614225699/processing_output/test_data', 'LocalPath': '/opt/ml/processing/test', 'S3UploadMode': 'EndOfJob'}}]\n",
      "..........................................................\u001b[34mReceived arguments Namespace(batch_size=500, dataset_name='emotion', model_name='roberta-base')\u001b[0m\n",
      "\u001b[34m#015Downloading:   0%|          | 0.00/1.60k [00:00<?, ?B/s]#015Downloading: 3.49kB [00:00, 1.88MB/s]                   \u001b[0m\n",
      "\u001b[34m#015Downloading:   0%|          | 0.00/1.65k [00:00<?, ?B/s]#015Downloading: 5.92kB [00:00, 4.39MB/s]                   \u001b[0m\n",
      "\u001b[34mUsing custom data configuration default\u001b[0m\n",
      "\u001b[34mDownloading and preparing dataset emotion/default (download: 1.97 MiB, generated: 2.07 MiB, post-processed: Unknown size, total: 4.05 MiB) to /root/.cache/huggingface/datasets/emotion/default/0.0.0/6e4212efe64fd33728549b8f0435c73081391d543b596a05936857df98acb681...\u001b[0m\n",
      "\u001b[34m#015Downloading:   0%|          | 0.00/1.66M [00:00<?, ?B/s]#015Downloading: 100%|██████████| 1.66M/1.66M [00:00<00:00, 40.4MB/s]\u001b[0m\n",
      "\u001b[34m#015Downloading:   0%|          | 0.00/204k [00:00<?, ?B/s]#015Downloading: 100%|██████████| 204k/204k [00:00<00:00, 33.2MB/s]\u001b[0m\n",
      "\u001b[34m#015Downloading:   0%|          | 0.00/207k [00:00<?, ?B/s]#015Downloading: 100%|██████████| 207k/207k [00:00<00:00, 37.4MB/s]\u001b[0m\n",
      "\u001b[34mDataset emotion downloaded and prepared to /root/.cache/huggingface/datasets/emotion/default/0.0.0/6e4212efe64fd33728549b8f0435c73081391d543b596a05936857df98acb681. Subsequent calls will reuse this data.\u001b[0m\n",
      "\u001b[34m#0150 examples [00:00, ? examples/s]#0154954 examples [00:00, 49522.22 examples/s]#01510000 examples [00:00, 49078.52 examples/s]#01515087 examples [00:00, 49601.20 examples/s]#015                                           #015#0150 examples [00:00, ? examples/s]#015                                #015#0150 examples [00:00, ? examples/s]#015                                #015#015Downloading:   0%|          | 0.00/481 [00:00<?, ?B/s]#015Downloading: 100%|██████████| 481/481 [00:00<00:00, 349kB/s]\u001b[0m\n",
      "\u001b[34m#015Downloading:   0%|          | 0.00/899k [00:00<?, ?B/s]#015Downloading: 100%|██████████| 899k/899k [00:00<00:00, 34.4MB/s]\u001b[0m\n",
      "\u001b[34m#015Downloading:   0%|          | 0.00/456k [00:00<?, ?B/s]#015Downloading: 100%|██████████| 456k/456k [00:00<00:00, 41.7MB/s]\u001b[0m\n",
      "\u001b[34m#015Downloading:   0%|          | 0.00/1.36M [00:00<?, ?B/s]#015Downloading: 100%|██████████| 1.36M/1.36M [00:00<00:00, 44.9MB/s]\u001b[0m\n",
      "\u001b[34m#015  0%|          | 0/32 [00:00<?, ?ba/s]#015  3%|▎         | 1/32 [00:00<00:04,  6.66ba/s]#015  9%|▉         | 3/32 [00:00<00:03,  7.90ba/s]#015 16%|█▌        | 5/32 [00:00<00:02,  9.01ba/s]#015 22%|██▏       | 7/32 [00:00<00:02,  9.83ba/s]#015 28%|██▊       | 9/32 [00:00<00:02, 10.69ba/s]#015 34%|███▍      | 11/32 [00:00<00:01, 11.48ba/s]#015 41%|████      | 13/32 [00:01<00:01, 11.62ba/s]#015 47%|████▋     | 15/32 [00:01<00:01, 12.15ba/s]#015 53%|█████▎    | 17/32 [00:01<00:01, 12.54ba/s]#015 59%|█████▉    | 19/32 [00:01<00:01, 12.63ba/s]#015 66%|██████▌   | 21/32 [00:01<00:00, 12.81ba/s]#015 72%|███████▏  | 23/32 [00:01<00:00, 12.94ba/s]#015 78%|███████▊  | 25/32 [00:01<00:00, 12.91ba/s]#015 84%|████████▍ | 27/32 [00:02<00:00, 12.26ba/s]#015 91%|█████████ | 29/32 [00:02<00:00, 12.58ba/s]#015 97%|█████████▋| 31/32 [00:02<00:00, 12.43ba/s]#015100%|██████████| 32/32 [00:02<00:00, 12.54ba/s]\u001b[0m\n",
      "\u001b[34m#015  0%|          | 0/4 [00:00<?, ?ba/s]#015 50%|█████     | 2/4 [00:00<00:00, 12.58ba/s]#015100%|██████████| 4/4 [00:00<00:00, 12.79ba/s]#015100%|██████████| 4/4 [00:00<00:00, 12.91ba/s]\u001b[0m\n",
      "\u001b[34m#015  0%|          | 0/4 [00:00<?, ?ba/s]#015 50%|█████     | 2/4 [00:00<00:00, 12.41ba/s]#015100%|██████████| 4/4 [00:00<00:00, 12.75ba/s]#015100%|██████████| 4/4 [00:00<00:00, 12.96ba/s]\u001b[0m\n",
      "\n"
     ]
    }
   ],
   "source": [
    "hf_processor.run(\n",
    "    code=\"scripts/preprocess.py\",\n",
    "    outputs=outputs,\n",
    "    arguments=arguments\n",
    ")"
   ]
  },
  {
   "cell_type": "code",
   "execution_count": 62,
   "id": "e5477769",
   "metadata": {},
   "outputs": [
    {
     "name": "stdout",
     "output_type": "stream",
     "text": [
      "s3://emotion-class-197614225699/processing_output/train_data\n",
      "s3://emotion-class-197614225699/processing_output/validation_data\n",
      "s3://emotion-class-197614225699/processing_output/test_data\n"
     ]
    }
   ],
   "source": [
    "preprocessing_job_description = hf_processor.jobs[-1].describe()\n",
    "\n",
    "output_config = preprocessing_job_description['ProcessingOutputConfig']\n",
    "for output in output_config['Outputs']:\n",
    "    print(output['S3Output']['S3Uri'])"
   ]
  },
  {
   "cell_type": "code",
   "execution_count": 63,
   "id": "d8fc4d63",
   "metadata": {},
   "outputs": [],
   "source": [
    "### quick inspect"
   ]
  },
  {
   "cell_type": "code",
   "execution_count": 64,
   "id": "a894b834",
   "metadata": {},
   "outputs": [],
   "source": [
    "import botocore\n",
    "from datasets.filesystems import S3FileSystem\n",
    "from datasets import load_from_disk\n",
    "\n",
    "s3_session = botocore.session.Session()\n",
    "s3 = S3FileSystem(session=s3_session)\n",
    "dataset = load_from_disk(f's3://{bucket}/processing_output/train_data/', fs=s3)"
   ]
  },
  {
   "cell_type": "code",
   "execution_count": 65,
   "id": "7051d1bc",
   "metadata": {},
   "outputs": [],
   "source": [
    "df_train = pd.DataFrame(dataset)"
   ]
  },
  {
   "cell_type": "code",
   "execution_count": 66,
   "id": "ca18c4ac",
   "metadata": {},
   "outputs": [
    {
     "data": {
      "text/html": [
       "<div>\n",
       "<style scoped>\n",
       "    .dataframe tbody tr th:only-of-type {\n",
       "        vertical-align: middle;\n",
       "    }\n",
       "\n",
       "    .dataframe tbody tr th {\n",
       "        vertical-align: top;\n",
       "    }\n",
       "\n",
       "    .dataframe thead th {\n",
       "        text-align: right;\n",
       "    }\n",
       "</style>\n",
       "<table border=\"1\" class=\"dataframe\">\n",
       "  <thead>\n",
       "    <tr style=\"text-align: right;\">\n",
       "      <th></th>\n",
       "      <th>attention_mask</th>\n",
       "      <th>input_ids</th>\n",
       "      <th>label</th>\n",
       "      <th>text</th>\n",
       "    </tr>\n",
       "  </thead>\n",
       "  <tbody>\n",
       "    <tr>\n",
       "      <th>0</th>\n",
       "      <td>[1, 1, 1, 1, 1, 1, 0, 0, 0, 0, 0, 0, 0, 0, 0, ...</td>\n",
       "      <td>[0, 118, 46405, 619, 32386, 2, 1, 1, 1, 1, 1, ...</td>\n",
       "      <td>0</td>\n",
       "      <td>i didnt feel humiliated</td>\n",
       "    </tr>\n",
       "    <tr>\n",
       "      <th>1</th>\n",
       "      <td>[1, 1, 1, 1, 1, 1, 1, 1, 1, 1, 1, 1, 1, 1, 1, ...</td>\n",
       "      <td>[0, 118, 64, 213, 31, 2157, 98, 24418, 7, 98, ...</td>\n",
       "      <td>0</td>\n",
       "      <td>i can go from feeling so hopeless to so damned...</td>\n",
       "    </tr>\n",
       "    <tr>\n",
       "      <th>2</th>\n",
       "      <td>[1, 1, 1, 1, 1, 1, 1, 1, 1, 1, 1, 1, 0, 0, 0, ...</td>\n",
       "      <td>[0, 757, 16004, 10, 2289, 7, 618, 939, 619, 34...</td>\n",
       "      <td>3</td>\n",
       "      <td>im grabbing a minute to post i feel greedy wrong</td>\n",
       "    </tr>\n",
       "    <tr>\n",
       "      <th>3</th>\n",
       "      <td>[1, 1, 1, 1, 1, 1, 1, 1, 1, 1, 1, 1, 1, 1, 1, ...</td>\n",
       "      <td>[0, 118, 524, 655, 2157, 28055, 59, 5, 24672, ...</td>\n",
       "      <td>2</td>\n",
       "      <td>i am ever feeling nostalgic about the fireplac...</td>\n",
       "    </tr>\n",
       "    <tr>\n",
       "      <th>4</th>\n",
       "      <td>[1, 1, 1, 1, 1, 1, 1, 0, 0, 0, 0, 0, 0, 0, 0, ...</td>\n",
       "      <td>[0, 118, 524, 2157, 22970, 17414, 2, 1, 1, 1, ...</td>\n",
       "      <td>3</td>\n",
       "      <td>i am feeling grouchy</td>\n",
       "    </tr>\n",
       "    <tr>\n",
       "      <th>5</th>\n",
       "      <td>[1, 1, 1, 1, 1, 1, 1, 1, 1, 1, 1, 1, 1, 1, 1, ...</td>\n",
       "      <td>[0, 2088, 57, 2157, 10, 410, 32875, 4490, 1205...</td>\n",
       "      <td>0</td>\n",
       "      <td>ive been feeling a little burdened lately wasn...</td>\n",
       "    </tr>\n",
       "    <tr>\n",
       "      <th>6</th>\n",
       "      <td>[1, 1, 1, 1, 1, 1, 1, 1, 1, 1, 1, 1, 1, 1, 1, ...</td>\n",
       "      <td>[0, 2088, 57, 602, 50, 7259, 1023, 27809, 50, ...</td>\n",
       "      <td>5</td>\n",
       "      <td>ive been taking or milligrams or times recomme...</td>\n",
       "    </tr>\n",
       "    <tr>\n",
       "      <th>7</th>\n",
       "      <td>[1, 1, 1, 1, 1, 1, 1, 1, 1, 1, 1, 1, 1, 1, 1, ...</td>\n",
       "      <td>[0, 118, 619, 25, 10985, 59, 301, 25, 10, 7044...</td>\n",
       "      <td>4</td>\n",
       "      <td>i feel as confused about life as a teenager or...</td>\n",
       "    </tr>\n",
       "    <tr>\n",
       "      <th>8</th>\n",
       "      <td>[1, 1, 1, 1, 1, 1, 1, 1, 1, 1, 1, 1, 1, 1, 1, ...</td>\n",
       "      <td>[0, 118, 33, 57, 19, 4716, 2839, 281, 13, 107,...</td>\n",
       "      <td>1</td>\n",
       "      <td>i have been with petronas for years i feel tha...</td>\n",
       "    </tr>\n",
       "    <tr>\n",
       "      <th>9</th>\n",
       "      <td>[1, 1, 1, 1, 1, 1, 0, 0, 0, 0, 0, 0, 0, 0, 0, ...</td>\n",
       "      <td>[0, 118, 619, 8728, 350, 2, 1, 1, 1, 1, 1, 1, ...</td>\n",
       "      <td>2</td>\n",
       "      <td>i feel romantic too</td>\n",
       "    </tr>\n",
       "  </tbody>\n",
       "</table>\n",
       "</div>"
      ],
      "text/plain": [
       "                                      attention_mask  \\\n",
       "0  [1, 1, 1, 1, 1, 1, 0, 0, 0, 0, 0, 0, 0, 0, 0, ...   \n",
       "1  [1, 1, 1, 1, 1, 1, 1, 1, 1, 1, 1, 1, 1, 1, 1, ...   \n",
       "2  [1, 1, 1, 1, 1, 1, 1, 1, 1, 1, 1, 1, 0, 0, 0, ...   \n",
       "3  [1, 1, 1, 1, 1, 1, 1, 1, 1, 1, 1, 1, 1, 1, 1, ...   \n",
       "4  [1, 1, 1, 1, 1, 1, 1, 0, 0, 0, 0, 0, 0, 0, 0, ...   \n",
       "5  [1, 1, 1, 1, 1, 1, 1, 1, 1, 1, 1, 1, 1, 1, 1, ...   \n",
       "6  [1, 1, 1, 1, 1, 1, 1, 1, 1, 1, 1, 1, 1, 1, 1, ...   \n",
       "7  [1, 1, 1, 1, 1, 1, 1, 1, 1, 1, 1, 1, 1, 1, 1, ...   \n",
       "8  [1, 1, 1, 1, 1, 1, 1, 1, 1, 1, 1, 1, 1, 1, 1, ...   \n",
       "9  [1, 1, 1, 1, 1, 1, 0, 0, 0, 0, 0, 0, 0, 0, 0, ...   \n",
       "\n",
       "                                           input_ids  label  \\\n",
       "0  [0, 118, 46405, 619, 32386, 2, 1, 1, 1, 1, 1, ...      0   \n",
       "1  [0, 118, 64, 213, 31, 2157, 98, 24418, 7, 98, ...      0   \n",
       "2  [0, 757, 16004, 10, 2289, 7, 618, 939, 619, 34...      3   \n",
       "3  [0, 118, 524, 655, 2157, 28055, 59, 5, 24672, ...      2   \n",
       "4  [0, 118, 524, 2157, 22970, 17414, 2, 1, 1, 1, ...      3   \n",
       "5  [0, 2088, 57, 2157, 10, 410, 32875, 4490, 1205...      0   \n",
       "6  [0, 2088, 57, 602, 50, 7259, 1023, 27809, 50, ...      5   \n",
       "7  [0, 118, 619, 25, 10985, 59, 301, 25, 10, 7044...      4   \n",
       "8  [0, 118, 33, 57, 19, 4716, 2839, 281, 13, 107,...      1   \n",
       "9  [0, 118, 619, 8728, 350, 2, 1, 1, 1, 1, 1, 1, ...      2   \n",
       "\n",
       "                                                text  \n",
       "0                            i didnt feel humiliated  \n",
       "1  i can go from feeling so hopeless to so damned...  \n",
       "2   im grabbing a minute to post i feel greedy wrong  \n",
       "3  i am ever feeling nostalgic about the fireplac...  \n",
       "4                               i am feeling grouchy  \n",
       "5  ive been feeling a little burdened lately wasn...  \n",
       "6  ive been taking or milligrams or times recomme...  \n",
       "7  i feel as confused about life as a teenager or...  \n",
       "8  i have been with petronas for years i feel tha...  \n",
       "9                                i feel romantic too  "
      ]
     },
     "execution_count": 66,
     "metadata": {},
     "output_type": "execute_result"
    }
   ],
   "source": [
    "df_train.head(10)"
   ]
  },
  {
   "cell_type": "code",
   "execution_count": null,
   "id": "2c2374a6",
   "metadata": {},
   "outputs": [],
   "source": []
  }
 ],
 "metadata": {
  "instance_type": "ml.t3.medium",
  "kernelspec": {
   "display_name": "conda_pytorch_latest_p37",
   "language": "python",
   "name": "conda_pytorch_latest_p37"
  },
  "language_info": {
   "codemirror_mode": {
    "name": "ipython",
    "version": 3
   },
   "file_extension": ".py",
   "mimetype": "text/x-python",
   "name": "python",
   "nbconvert_exporter": "python",
   "pygments_lexer": "ipython3",
   "version": "3.7.12"
  }
 },
 "nbformat": 4,
 "nbformat_minor": 5
}
